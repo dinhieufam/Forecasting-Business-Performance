{
  "cells": [
    {
      "cell_type": "markdown",
      "metadata": {
        "id": "wPscTu4y0Fov"
      },
      "source": [
        "ARIMA MODEL:\n",
        "\n",
        "- p: Number of autoregressive (AR) terms. It represents the lag of the dependent variable.\n",
        "\n",
        "- d: Number of differencing steps needed to make the data stationary.\n",
        "\n",
        "- q: Number of moving average (MA) terms. It represents the lag of the forecast error."
      ]
    },
    {
      "cell_type": "markdown",
      "metadata": {
        "id": "Pney5J2NBLyY"
      },
      "source": [
        "# **INSTALL LIBS**"
      ]
    },
    {
      "cell_type": "code",
      "execution_count": 1,
      "metadata": {
        "colab": {
          "base_uri": "https://localhost:8080/"
        },
        "id": "yYoyNfYdQYOi",
        "outputId": "c33a7b7b-2734-4fb0-c452-afb506820519"
      },
      "outputs": [
        {
          "output_type": "stream",
          "name": "stdout",
          "text": [
            "Collecting pprintpp\n",
            "  Downloading pprintpp-0.4.0-py2.py3-none-any.whl.metadata (7.9 kB)\n",
            "Downloading pprintpp-0.4.0-py2.py3-none-any.whl (16 kB)\n",
            "Installing collected packages: pprintpp\n",
            "Successfully installed pprintpp-0.4.0\n",
            "Collecting pmdarima\n",
            "  Downloading pmdarima-2.0.4-cp311-cp311-manylinux_2_17_x86_64.manylinux2014_x86_64.manylinux_2_28_x86_64.whl.metadata (7.8 kB)\n",
            "Requirement already satisfied: joblib>=0.11 in /usr/local/lib/python3.11/dist-packages (from pmdarima) (1.4.2)\n",
            "Requirement already satisfied: Cython!=0.29.18,!=0.29.31,>=0.29 in /usr/local/lib/python3.11/dist-packages (from pmdarima) (3.0.12)\n",
            "Requirement already satisfied: numpy>=1.21.2 in /usr/local/lib/python3.11/dist-packages (from pmdarima) (1.26.4)\n",
            "Requirement already satisfied: pandas>=0.19 in /usr/local/lib/python3.11/dist-packages (from pmdarima) (2.2.2)\n",
            "Requirement already satisfied: scikit-learn>=0.22 in /usr/local/lib/python3.11/dist-packages (from pmdarima) (1.6.1)\n",
            "Requirement already satisfied: scipy>=1.3.2 in /usr/local/lib/python3.11/dist-packages (from pmdarima) (1.13.1)\n",
            "Requirement already satisfied: statsmodels>=0.13.2 in /usr/local/lib/python3.11/dist-packages (from pmdarima) (0.14.4)\n",
            "Requirement already satisfied: urllib3 in /usr/local/lib/python3.11/dist-packages (from pmdarima) (2.3.0)\n",
            "Requirement already satisfied: setuptools!=50.0.0,>=38.6.0 in /usr/local/lib/python3.11/dist-packages (from pmdarima) (75.1.0)\n",
            "Requirement already satisfied: packaging>=17.1 in /usr/local/lib/python3.11/dist-packages (from pmdarima) (24.2)\n",
            "Requirement already satisfied: python-dateutil>=2.8.2 in /usr/local/lib/python3.11/dist-packages (from pandas>=0.19->pmdarima) (2.8.2)\n",
            "Requirement already satisfied: pytz>=2020.1 in /usr/local/lib/python3.11/dist-packages (from pandas>=0.19->pmdarima) (2025.1)\n",
            "Requirement already satisfied: tzdata>=2022.7 in /usr/local/lib/python3.11/dist-packages (from pandas>=0.19->pmdarima) (2025.1)\n",
            "Requirement already satisfied: threadpoolctl>=3.1.0 in /usr/local/lib/python3.11/dist-packages (from scikit-learn>=0.22->pmdarima) (3.5.0)\n",
            "Requirement already satisfied: patsy>=0.5.6 in /usr/local/lib/python3.11/dist-packages (from statsmodels>=0.13.2->pmdarima) (1.0.1)\n",
            "Requirement already satisfied: six>=1.5 in /usr/local/lib/python3.11/dist-packages (from python-dateutil>=2.8.2->pandas>=0.19->pmdarima) (1.17.0)\n",
            "Downloading pmdarima-2.0.4-cp311-cp311-manylinux_2_17_x86_64.manylinux2014_x86_64.manylinux_2_28_x86_64.whl (2.2 MB)\n",
            "\u001b[2K   \u001b[90m━━━━━━━━━━━━━━━━━━━━━━━━━━━━━━━━━━━━━━━━\u001b[0m \u001b[32m2.2/2.2 MB\u001b[0m \u001b[31m18.7 MB/s\u001b[0m eta \u001b[36m0:00:00\u001b[0m\n",
            "\u001b[?25hInstalling collected packages: pmdarima\n",
            "Successfully installed pmdarima-2.0.4\n",
            "Requirement already satisfied: statsmodels in /usr/local/lib/python3.11/dist-packages (0.14.4)\n",
            "Requirement already satisfied: numpy<3,>=1.22.3 in /usr/local/lib/python3.11/dist-packages (from statsmodels) (1.26.4)\n",
            "Requirement already satisfied: scipy!=1.9.2,>=1.8 in /usr/local/lib/python3.11/dist-packages (from statsmodels) (1.13.1)\n",
            "Requirement already satisfied: pandas!=2.1.0,>=1.4 in /usr/local/lib/python3.11/dist-packages (from statsmodels) (2.2.2)\n",
            "Requirement already satisfied: patsy>=0.5.6 in /usr/local/lib/python3.11/dist-packages (from statsmodels) (1.0.1)\n",
            "Requirement already satisfied: packaging>=21.3 in /usr/local/lib/python3.11/dist-packages (from statsmodels) (24.2)\n",
            "Requirement already satisfied: python-dateutil>=2.8.2 in /usr/local/lib/python3.11/dist-packages (from pandas!=2.1.0,>=1.4->statsmodels) (2.8.2)\n",
            "Requirement already satisfied: pytz>=2020.1 in /usr/local/lib/python3.11/dist-packages (from pandas!=2.1.0,>=1.4->statsmodels) (2025.1)\n",
            "Requirement already satisfied: tzdata>=2022.7 in /usr/local/lib/python3.11/dist-packages (from pandas!=2.1.0,>=1.4->statsmodels) (2025.1)\n",
            "Requirement already satisfied: six>=1.5 in /usr/local/lib/python3.11/dist-packages (from python-dateutil>=2.8.2->pandas!=2.1.0,>=1.4->statsmodels) (1.17.0)\n"
          ]
        }
      ],
      "source": [
        "!pip install pprintpp --upgrade\n",
        "!pip install pmdarima\n",
        "!pip install statsmodels --upgrade"
      ]
    },
    {
      "cell_type": "markdown",
      "metadata": {
        "id": "a1JJUumkEGLv"
      },
      "source": [
        "# **IMPORT LIBRARIES**"
      ]
    },
    {
      "cell_type": "code",
      "execution_count": 2,
      "metadata": {
        "id": "iXtfw26wg7sE"
      },
      "outputs": [],
      "source": [
        "import numpy as np\n",
        "import pandas as pd\n",
        "import matplotlib.pyplot as plt\n",
        "import seaborn as sns\n",
        "import plotly.express as px\n",
        "from pprint import pprint\n",
        "import statsmodels\n",
        "from statsmodels.tsa.arima.model import ARIMA\n",
        "from statsmodels.tsa.stattools import adfuller\n",
        "from scipy.stats import boxcox\n",
        "from scipy.special import inv_boxcox\n",
        "import plotly.graph_objects as go\n",
        "from scipy import stats\n",
        "import pmdarima.arima\n",
        "from pmdarima.arima import auto_arima"
      ]
    },
    {
      "cell_type": "markdown",
      "metadata": {
        "id": "ogN_BwjFENRn"
      },
      "source": [
        "# **GET THE DATA**"
      ]
    },
    {
      "cell_type": "code",
      "execution_count": 3,
      "metadata": {
        "id": "vOAjVFISQYOl"
      },
      "outputs": [],
      "source": [
        "train = pd.read_csv('/content/train.csv')\n",
        "test = pd.read_csv('/content/test.csv')"
      ]
    },
    {
      "cell_type": "code",
      "execution_count": 4,
      "metadata": {
        "id": "XV6-C-CzQYOl"
      },
      "outputs": [],
      "source": [
        "train = pd.DataFrame(train, index = range(len(train)))\n",
        "test = pd.DataFrame(test, index = range(len(test)))"
      ]
    },
    {
      "cell_type": "code",
      "execution_count": 5,
      "metadata": {
        "colab": {
          "base_uri": "https://localhost:8080/"
        },
        "id": "jYNzuQP_QYOl",
        "outputId": "e72d67ac-f060-45ad-cc98-f6ca4fa244f4"
      },
      "outputs": [
        {
          "output_type": "stream",
          "name": "stdout",
          "text": [
            "Train: 901561\n",
            "Test: 74682\n",
            "        ProductID        Date    Zip  Units  Revenue        COGS\n",
            "901556       2213  2013-08-12  15135      1  1070.37  749.794185\n",
            "901557       2213  2011-12-04  80120      1  1070.37  749.794185\n",
            "901558       2213  2011-05-29  30028      1  1070.37  749.794185\n",
            "901559       2213  2014-04-01  65279      1  1070.37  749.794185\n",
            "901560       2213  2012-12-22  25526      1  1070.37  749.794185\n",
            "       ProductID        Date    Zip  Units  Revenue         COGS\n",
            "74677        794  2021-04-09  80602      1  1070.37  1092.312585\n",
            "74678        794  2021-02-13  80915      1  1070.37  1092.312585\n",
            "74679        793  2021-08-17  16038      1  1070.37   680.113098\n",
            "74680        793  2021-02-13  80915      1  1070.37   680.113098\n",
            "74681        793  2021-04-09  80602      1  1070.37   680.113098\n"
          ]
        }
      ],
      "source": [
        "print(f'Train: {len(train)}')\n",
        "print(f'Test: {len(test)}')\n",
        "print(train.tail())\n",
        "print(test.tail())\n",
        "# 2022-07-01\n",
        "# 2021-01-01"
      ]
    },
    {
      "cell_type": "code",
      "execution_count": 6,
      "metadata": {
        "colab": {
          "base_uri": "https://localhost:8080/",
          "height": 243
        },
        "id": "rLjugbx0jQG4",
        "outputId": "9d6b8a95-c570-451e-d5d9-ccf614b8246f"
      },
      "outputs": [
        {
          "output_type": "stream",
          "name": "stdout",
          "text": [
            "         Date     Revenue  Units          COGS\n",
            "0  2010-07-04  1765391.67    252  1.340364e+06\n",
            "1  2010-07-05  1425986.10    208  1.112580e+06\n",
            "2  2010-07-06   302463.00     33  2.373014e+05\n",
            "3  2010-07-07  1047787.65    181  8.425688e+05\n",
            "4  2010-07-08   771811.74    121  6.028101e+05\n",
            "         Date    Revenue  Units           COGS\n",
            "0  2021-01-01  189558.81     26  153935.401914\n",
            "1  2021-01-02  280406.70     46  253932.619059\n",
            "2  2021-01-03  317656.08     48  270310.301163\n",
            "3  2021-01-04  373463.37     40  316518.998544\n",
            "4  2021-01-05   31120.11      3   22496.434758\n"
          ]
        },
        {
          "output_type": "display_data",
          "data": {
            "text/plain": [
              "<Figure size 2000x1000 with 0 Axes>"
            ]
          },
          "metadata": {}
        }
      ],
      "source": [
        "train = train.groupby('Date')[['Revenue', 'Units', 'COGS']].sum().reset_index()\n",
        "test = test.groupby('Date')[['Revenue', 'Units', 'COGS']].sum().reset_index()\n",
        "\n",
        "train.columns = ['Date', 'Revenue', 'Units', 'COGS']\n",
        "test.columns = ['Date', 'Revenue', 'Units', 'COGS']\n",
        "fig = plt.figure(figsize = (20, 10))\n",
        "print(train.head())\n",
        "print(test.head())"
      ]
    },
    {
      "cell_type": "code",
      "execution_count": 7,
      "metadata": {
        "id": "AyN90UnBQYOm",
        "outputId": "bad16005-2c1e-4e4d-8536-ebd9fad4ec7d",
        "colab": {
          "base_uri": "https://localhost:8080/"
        }
      },
      "outputs": [
        {
          "output_type": "stream",
          "name": "stdout",
          "text": [
            "            Date     Revenue  Units          COGS\n",
            "3713  2020-12-27  1091568.87    214  9.172869e+05\n",
            "3714  2020-12-28   998180.19    166  8.634828e+05\n",
            "3715  2020-12-29  1309889.70    196  1.100255e+06\n",
            "3716  2020-12-30  2194138.80    321  1.828705e+06\n",
            "3717  2020-12-31    16694.37      1  1.264098e+04\n",
            "         Date    Revenue  Units           COGS\n",
            "0  2021-01-01  189558.81     26  153935.401914\n",
            "1  2021-01-02  280406.70     46  253932.619059\n",
            "2  2021-01-03  317656.08     48  270310.301163\n",
            "3  2021-01-04  373463.37     40  316518.998544\n",
            "4  2021-01-05   31120.11      3   22496.434758\n",
            "Date          2021-01-01\n",
            "Revenue        189558.81\n",
            "Units                 26\n",
            "COGS       153935.401914\n",
            "Name: 0, dtype: object\n"
          ]
        }
      ],
      "source": [
        "train = train.sort_values(by = 'Date', ascending = True)\n",
        "test = test.sort_values(by = 'Date', ascending = True)\n",
        "print(train.tail())\n",
        "print(test.head())\n",
        "print(test.iloc[0])"
      ]
    },
    {
      "cell_type": "code",
      "execution_count": 8,
      "metadata": {
        "id": "sm-67H1OQYOn",
        "outputId": "4545f2ae-8c29-4a4a-970f-f094c1a74b43",
        "colab": {
          "base_uri": "https://localhost:8080/"
        }
      },
      "outputs": [
        {
          "output_type": "stream",
          "name": "stdout",
          "text": [
            "Train: 3718\n",
            "Test: 535\n"
          ]
        }
      ],
      "source": [
        "print(f\"Train: {len(train)}\")\n",
        "print(f\"Test: {len(test)}\")"
      ]
    },
    {
      "cell_type": "code",
      "execution_count": null,
      "metadata": {
        "colab": {
          "base_uri": "https://localhost:8080/"
        },
        "id": "3PX5ohF-QYOo",
        "outputId": "eed89609-9778-4b45-bc6e-2e3c92c6d426"
      },
      "outputs": [
        {
          "output_type": "stream",
          "name": "stdout",
          "text": [
            "0    0.100984\n",
            "1    0.081557\n",
            "2    0.017249\n",
            "3    0.059910\n",
            "4    0.044114\n",
            "Name: Scaled_Revenue, dtype: float64\n"
          ]
        },
        {
          "output_type": "execute_result",
          "data": {
            "text/plain": [
              "[<matplotlib.lines.Line2D at 0x7af3a67c2bd0>]"
            ]
          },
          "metadata": {},
          "execution_count": 9
        }
      ],
      "source": [
        "max_revenue = max(train['Revenue'])\n",
        "min_revenue = min(train['Revenue'])\n",
        "\n",
        "train['Scaled_Revenue'] = (train['Revenue'] - min_revenue) / (max_revenue - min_revenue)\n",
        "print(train['Scaled_Revenue'].head())\n",
        "plt.plot(train['Date'], train['Scaled_Revenue'].diff())"
      ]
    },
    {
      "cell_type": "code",
      "execution_count": null,
      "metadata": {
        "id": "FK1sowE-cGCK"
      },
      "outputs": [],
      "source": [
        "# ADFULLER TEST\n",
        "result = adfuller(train['Scaled_Revenue'].diff().dropna())\n",
        "\n",
        "adf_statistic = result[0]\n",
        "p_value = result[1]\n",
        "used_lag = result[2]\n",
        "n_obs = result[3]\n",
        "critical_values = result[4]\n",
        "\n",
        "print('ADF Statistic:', adf_statistic)\n",
        "print('p-value:', '%.20f'% p_value)\n",
        "print('Number of Lags Used:', used_lag)\n",
        "print('Number of Observations Used:', n_obs)\n",
        "print('Critical Values:')\n",
        "for key, value in critical_values.items():\n",
        "    print(f'   {key}: {value}')\n",
        "print(max(train['Revenue']))\n",
        "print(min(train['Revenue']))"
      ]
    },
    {
      "cell_type": "code",
      "execution_count": null,
      "metadata": {
        "colab": {
          "base_uri": "https://localhost:8080/"
        },
        "id": "2B0kFpTPdB6h",
        "outputId": "96eac039-c660-4cea-d369-af8ac4f93a49"
      },
      "outputs": [
        {
          "metadata": {
            "tags": null
          },
          "name": "stderr",
          "output_type": "stream",
          "text": [
            "/usr/local/lib/python3.11/dist-packages/sklearn/utils/deprecation.py:151: FutureWarning:\n",
            "\n",
            "'force_all_finite' was renamed to 'ensure_all_finite' in 1.6 and will be removed in 1.8.\n",
            "\n",
            "/usr/local/lib/python3.11/dist-packages/sklearn/utils/deprecation.py:151: FutureWarning:\n",
            "\n",
            "'force_all_finite' was renamed to 'ensure_all_finite' in 1.6 and will be removed in 1.8.\n",
            "\n"
          ]
        },
        {
          "metadata": {
            "tags": null
          },
          "name": "stdout",
          "output_type": "stream",
          "text": [
            "Performing stepwise search to minimize aic\n",
            " ARIMA(0,0,0)(0,0,1)[12] intercept   : AIC=-8442.443, Time=8.75 sec\n"
          ]
        },
        {
          "metadata": {
            "tags": null
          },
          "name": "stderr",
          "output_type": "stream",
          "text": [
            "/usr/local/lib/python3.11/dist-packages/sklearn/utils/deprecation.py:151: FutureWarning:\n",
            "\n",
            "'force_all_finite' was renamed to 'ensure_all_finite' in 1.6 and will be removed in 1.8.\n",
            "\n"
          ]
        },
        {
          "metadata": {
            "tags": null
          },
          "name": "stdout",
          "output_type": "stream",
          "text": [
            " ARIMA(0,0,0)(0,0,0)[12] intercept   : AIC=-8400.578, Time=0.61 sec\n"
          ]
        },
        {
          "metadata": {
            "tags": null
          },
          "name": "stderr",
          "output_type": "stream",
          "text": [
            "/usr/local/lib/python3.11/dist-packages/sklearn/utils/deprecation.py:151: FutureWarning:\n",
            "\n",
            "'force_all_finite' was renamed to 'ensure_all_finite' in 1.6 and will be removed in 1.8.\n",
            "\n"
          ]
        },
        {
          "metadata": {
            "tags": null
          },
          "name": "stdout",
          "output_type": "stream",
          "text": [
            " ARIMA(1,0,0)(1,0,0)[12] intercept   : AIC=-8676.013, Time=9.17 sec\n"
          ]
        },
        {
          "metadata": {
            "tags": null
          },
          "name": "stderr",
          "output_type": "stream",
          "text": [
            "/usr/local/lib/python3.11/dist-packages/sklearn/utils/deprecation.py:151: FutureWarning:\n",
            "\n",
            "'force_all_finite' was renamed to 'ensure_all_finite' in 1.6 and will be removed in 1.8.\n",
            "\n"
          ]
        },
        {
          "metadata": {
            "tags": null
          },
          "name": "stdout",
          "output_type": "stream",
          "text": [
            " ARIMA(0,0,1)(0,0,1)[12] intercept   : AIC=-8655.902, Time=7.78 sec\n",
            " ARIMA(0,0,0)(0,0,0)[12]             : AIC=-5813.468, Time=0.14 sec\n"
          ]
        },
        {
          "metadata": {
            "tags": null
          },
          "name": "stderr",
          "output_type": "stream",
          "text": [
            "/usr/local/lib/python3.11/dist-packages/sklearn/utils/deprecation.py:151: FutureWarning:\n",
            "\n",
            "'force_all_finite' was renamed to 'ensure_all_finite' in 1.6 and will be removed in 1.8.\n",
            "\n",
            "/usr/local/lib/python3.11/dist-packages/sklearn/utils/deprecation.py:151: FutureWarning:\n",
            "\n",
            "'force_all_finite' was renamed to 'ensure_all_finite' in 1.6 and will be removed in 1.8.\n",
            "\n"
          ]
        },
        {
          "metadata": {
            "tags": null
          },
          "name": "stdout",
          "output_type": "stream",
          "text": [
            " ARIMA(1,0,0)(0,0,0)[12] intercept   : AIC=-8669.918, Time=0.57 sec\n"
          ]
        },
        {
          "metadata": {
            "tags": null
          },
          "name": "stderr",
          "output_type": "stream",
          "text": [
            "/usr/local/lib/python3.11/dist-packages/sklearn/utils/deprecation.py:151: FutureWarning:\n",
            "\n",
            "'force_all_finite' was renamed to 'ensure_all_finite' in 1.6 and will be removed in 1.8.\n",
            "\n"
          ]
        },
        {
          "metadata": {
            "tags": null
          },
          "name": "stdout",
          "output_type": "stream",
          "text": [
            " ARIMA(1,0,0)(2,0,0)[12] intercept   : AIC=-8679.233, Time=26.47 sec\n"
          ]
        },
        {
          "metadata": {
            "tags": null
          },
          "name": "stderr",
          "output_type": "stream",
          "text": [
            "/usr/local/lib/python3.11/dist-packages/sklearn/utils/deprecation.py:151: FutureWarning:\n",
            "\n",
            "'force_all_finite' was renamed to 'ensure_all_finite' in 1.6 and will be removed in 1.8.\n",
            "\n"
          ]
        },
        {
          "metadata": {
            "tags": null
          },
          "name": "stdout",
          "output_type": "stream",
          "text": [
            " ARIMA(1,0,0)(2,0,1)[12] intercept   : AIC=inf, Time=24.36 sec\n"
          ]
        },
        {
          "metadata": {
            "tags": null
          },
          "name": "stderr",
          "output_type": "stream",
          "text": [
            "/usr/local/lib/python3.11/dist-packages/sklearn/utils/deprecation.py:151: FutureWarning:\n",
            "\n",
            "'force_all_finite' was renamed to 'ensure_all_finite' in 1.6 and will be removed in 1.8.\n",
            "\n"
          ]
        },
        {
          "metadata": {
            "tags": null
          },
          "name": "stdout",
          "output_type": "stream",
          "text": [
            " ARIMA(1,0,0)(1,0,1)[12] intercept   : AIC=inf, Time=15.14 sec\n"
          ]
        },
        {
          "metadata": {
            "tags": null
          },
          "name": "stderr",
          "output_type": "stream",
          "text": [
            "/usr/local/lib/python3.11/dist-packages/sklearn/utils/deprecation.py:151: FutureWarning:\n",
            "\n",
            "'force_all_finite' was renamed to 'ensure_all_finite' in 1.6 and will be removed in 1.8.\n",
            "\n"
          ]
        },
        {
          "metadata": {
            "tags": null
          },
          "name": "stdout",
          "output_type": "stream",
          "text": [
            " ARIMA(0,0,0)(2,0,0)[12] intercept   : AIC=-8458.201, Time=16.91 sec\n"
          ]
        },
        {
          "metadata": {
            "tags": null
          },
          "name": "stderr",
          "output_type": "stream",
          "text": [
            "/usr/local/lib/python3.11/dist-packages/sklearn/utils/deprecation.py:151: FutureWarning:\n",
            "\n",
            "'force_all_finite' was renamed to 'ensure_all_finite' in 1.6 and will be removed in 1.8.\n",
            "\n"
          ]
        },
        {
          "metadata": {
            "tags": null
          },
          "name": "stdout",
          "output_type": "stream",
          "text": [
            " ARIMA(2,0,0)(2,0,0)[12] intercept   : AIC=-8679.550, Time=26.31 sec\n"
          ]
        },
        {
          "metadata": {
            "tags": null
          },
          "name": "stderr",
          "output_type": "stream",
          "text": [
            "/usr/local/lib/python3.11/dist-packages/sklearn/utils/deprecation.py:151: FutureWarning:\n",
            "\n",
            "'force_all_finite' was renamed to 'ensure_all_finite' in 1.6 and will be removed in 1.8.\n",
            "\n"
          ]
        },
        {
          "metadata": {
            "tags": null
          },
          "name": "stdout",
          "output_type": "stream",
          "text": [
            " ARIMA(2,0,0)(1,0,0)[12] intercept   : AIC=-8677.662, Time=13.17 sec\n"
          ]
        },
        {
          "metadata": {
            "tags": null
          },
          "name": "stderr",
          "output_type": "stream",
          "text": [
            "/usr/local/lib/python3.11/dist-packages/sklearn/utils/deprecation.py:151: FutureWarning:\n",
            "\n",
            "'force_all_finite' was renamed to 'ensure_all_finite' in 1.6 and will be removed in 1.8.\n",
            "\n"
          ]
        },
        {
          "metadata": {
            "tags": null
          },
          "name": "stdout",
          "output_type": "stream",
          "text": [
            " ARIMA(2,0,0)(2,0,1)[12] intercept   : AIC=-8750.808, Time=41.99 sec\n"
          ]
        },
        {
          "metadata": {
            "tags": null
          },
          "name": "stderr",
          "output_type": "stream",
          "text": [
            "/usr/local/lib/python3.11/dist-packages/sklearn/utils/deprecation.py:151: FutureWarning:\n",
            "\n",
            "'force_all_finite' was renamed to 'ensure_all_finite' in 1.6 and will be removed in 1.8.\n",
            "\n"
          ]
        },
        {
          "metadata": {
            "tags": null
          },
          "name": "stdout",
          "output_type": "stream",
          "text": [
            " ARIMA(2,0,0)(1,0,1)[12] intercept   : AIC=inf, Time=19.02 sec\n"
          ]
        },
        {
          "metadata": {
            "tags": null
          },
          "name": "stderr",
          "output_type": "stream",
          "text": [
            "/usr/local/lib/python3.11/dist-packages/sklearn/utils/deprecation.py:151: FutureWarning:\n",
            "\n",
            "'force_all_finite' was renamed to 'ensure_all_finite' in 1.6 and will be removed in 1.8.\n",
            "\n"
          ]
        },
        {
          "metadata": {
            "tags": null
          },
          "name": "stdout",
          "output_type": "stream",
          "text": [
            " ARIMA(2,0,0)(2,0,2)[12] intercept   : AIC=-8750.059, Time=47.02 sec\n"
          ]
        },
        {
          "metadata": {
            "tags": null
          },
          "name": "stderr",
          "output_type": "stream",
          "text": [
            "/usr/local/lib/python3.11/dist-packages/sklearn/utils/deprecation.py:151: FutureWarning:\n",
            "\n",
            "'force_all_finite' was renamed to 'ensure_all_finite' in 1.6 and will be removed in 1.8.\n",
            "\n"
          ]
        },
        {
          "metadata": {
            "tags": null
          },
          "name": "stdout",
          "output_type": "stream",
          "text": [
            " ARIMA(2,0,0)(1,0,2)[12] intercept   : AIC=-8761.744, Time=42.11 sec\n"
          ]
        },
        {
          "metadata": {
            "tags": null
          },
          "name": "stderr",
          "output_type": "stream",
          "text": [
            "/usr/local/lib/python3.11/dist-packages/sklearn/utils/deprecation.py:151: FutureWarning:\n",
            "\n",
            "'force_all_finite' was renamed to 'ensure_all_finite' in 1.6 and will be removed in 1.8.\n",
            "\n"
          ]
        },
        {
          "metadata": {
            "tags": null
          },
          "name": "stdout",
          "output_type": "stream",
          "text": [
            " ARIMA(2,0,0)(0,0,2)[12] intercept   : AIC=-8678.287, Time=29.47 sec\n"
          ]
        },
        {
          "metadata": {
            "tags": null
          },
          "name": "stderr",
          "output_type": "stream",
          "text": [
            "/usr/local/lib/python3.11/dist-packages/sklearn/utils/deprecation.py:151: FutureWarning:\n",
            "\n",
            "'force_all_finite' was renamed to 'ensure_all_finite' in 1.6 and will be removed in 1.8.\n",
            "\n"
          ]
        },
        {
          "metadata": {
            "tags": null
          },
          "name": "stdout",
          "output_type": "stream",
          "text": [
            " ARIMA(2,0,0)(0,0,1)[12] intercept   : AIC=-8677.319, Time=7.30 sec\n"
          ]
        },
        {
          "metadata": {
            "tags": null
          },
          "name": "stderr",
          "output_type": "stream",
          "text": [
            "/usr/local/lib/python3.11/dist-packages/sklearn/utils/deprecation.py:151: FutureWarning:\n",
            "\n",
            "'force_all_finite' was renamed to 'ensure_all_finite' in 1.6 and will be removed in 1.8.\n",
            "\n"
          ]
        },
        {
          "metadata": {
            "tags": null
          },
          "name": "stdout",
          "output_type": "stream",
          "text": [
            " ARIMA(1,0,0)(1,0,2)[12] intercept   : AIC=-8768.127, Time=34.63 sec\n"
          ]
        },
        {
          "metadata": {
            "tags": null
          },
          "name": "stderr",
          "output_type": "stream",
          "text": [
            "/usr/local/lib/python3.11/dist-packages/sklearn/utils/deprecation.py:151: FutureWarning:\n",
            "\n",
            "'force_all_finite' was renamed to 'ensure_all_finite' in 1.6 and will be removed in 1.8.\n",
            "\n"
          ]
        },
        {
          "metadata": {
            "tags": null
          },
          "name": "stdout",
          "output_type": "stream",
          "text": [
            " ARIMA(1,0,0)(0,0,2)[12] intercept   : AIC=-8677.530, Time=20.46 sec\n"
          ]
        },
        {
          "metadata": {
            "tags": null
          },
          "name": "stderr",
          "output_type": "stream",
          "text": [
            "/usr/local/lib/python3.11/dist-packages/sklearn/utils/deprecation.py:151: FutureWarning:\n",
            "\n",
            "'force_all_finite' was renamed to 'ensure_all_finite' in 1.6 and will be removed in 1.8.\n",
            "\n"
          ]
        },
        {
          "metadata": {
            "tags": null
          },
          "name": "stdout",
          "output_type": "stream",
          "text": [
            " ARIMA(1,0,0)(2,0,2)[12] intercept   : AIC=-8751.682, Time=44.23 sec\n"
          ]
        },
        {
          "metadata": {
            "tags": null
          },
          "name": "stderr",
          "output_type": "stream",
          "text": [
            "/usr/local/lib/python3.11/dist-packages/sklearn/utils/deprecation.py:151: FutureWarning:\n",
            "\n",
            "'force_all_finite' was renamed to 'ensure_all_finite' in 1.6 and will be removed in 1.8.\n",
            "\n"
          ]
        },
        {
          "metadata": {
            "tags": null
          },
          "name": "stdout",
          "output_type": "stream",
          "text": [
            " ARIMA(1,0,0)(0,0,1)[12] intercept   : AIC=-8675.429, Time=4.47 sec\n"
          ]
        },
        {
          "metadata": {
            "tags": null
          },
          "name": "stderr",
          "output_type": "stream",
          "text": [
            "/usr/local/lib/python3.11/dist-packages/sklearn/utils/deprecation.py:151: FutureWarning:\n",
            "\n",
            "'force_all_finite' was renamed to 'ensure_all_finite' in 1.6 and will be removed in 1.8.\n",
            "\n"
          ]
        },
        {
          "metadata": {
            "tags": null
          },
          "name": "stdout",
          "output_type": "stream",
          "text": [
            " ARIMA(0,0,0)(1,0,2)[12] intercept   : AIC=-8589.759, Time=30.89 sec\n"
          ]
        },
        {
          "metadata": {
            "tags": null
          },
          "name": "stderr",
          "output_type": "stream",
          "text": [
            "/usr/local/lib/python3.11/dist-packages/sklearn/utils/deprecation.py:151: FutureWarning:\n",
            "\n",
            "'force_all_finite' was renamed to 'ensure_all_finite' in 1.6 and will be removed in 1.8.\n",
            "\n"
          ]
        },
        {
          "metadata": {
            "tags": null
          },
          "name": "stdout",
          "output_type": "stream",
          "text": [
            " ARIMA(1,0,1)(1,0,2)[12] intercept   : AIC=-8762.105, Time=39.99 sec\n"
          ]
        },
        {
          "metadata": {
            "tags": null
          },
          "name": "stderr",
          "output_type": "stream",
          "text": [
            "/usr/local/lib/python3.11/dist-packages/sklearn/utils/deprecation.py:151: FutureWarning:\n",
            "\n",
            "'force_all_finite' was renamed to 'ensure_all_finite' in 1.6 and will be removed in 1.8.\n",
            "\n"
          ]
        },
        {
          "metadata": {
            "tags": null
          },
          "name": "stdout",
          "output_type": "stream",
          "text": [
            " ARIMA(0,0,1)(1,0,2)[12] intercept   : AIC=-8759.194, Time=37.62 sec\n"
          ]
        },
        {
          "metadata": {
            "tags": null
          },
          "name": "stderr",
          "output_type": "stream",
          "text": [
            "/usr/local/lib/python3.11/dist-packages/sklearn/utils/deprecation.py:151: FutureWarning:\n",
            "\n",
            "'force_all_finite' was renamed to 'ensure_all_finite' in 1.6 and will be removed in 1.8.\n",
            "\n"
          ]
        },
        {
          "metadata": {
            "tags": null
          },
          "name": "stdout",
          "output_type": "stream",
          "text": [
            " ARIMA(2,0,1)(1,0,2)[12] intercept   : AIC=-8759.897, Time=45.43 sec\n"
          ]
        },
        {
          "metadata": {
            "tags": null
          },
          "name": "stderr",
          "output_type": "stream",
          "text": [
            "/usr/local/lib/python3.11/dist-packages/sklearn/utils/deprecation.py:151: FutureWarning:\n",
            "\n",
            "'force_all_finite' was renamed to 'ensure_all_finite' in 1.6 and will be removed in 1.8.\n",
            "\n"
          ]
        },
        {
          "metadata": {
            "tags": null
          },
          "name": "stdout",
          "output_type": "stream",
          "text": [
            " ARIMA(1,0,0)(1,0,2)[12]             : AIC=inf, Time=12.22 sec\n",
            "\n",
            "Best model:  ARIMA(1,0,0)(1,0,2)[12] intercept\n",
            "Total fit time: 606.243 seconds\n",
            "-8768.127017525017\n"
          ]
        }
      ],
      "source": [
        "model = auto_arima(train['Scaled_Revenue'],\n",
        "                    exog = train[['Units', 'COGS']],\n",
        "                  start_p=0, max_p=4,\n",
        "                  start_q=0, max_q=4,\n",
        "                  start_P=0,\n",
        "                  m=12, seasonal=True,\n",
        "                  d=0, max_d=1,\n",
        "                  D=0, max_D=2,\n",
        "                  trace=True,\n",
        "                  error_action='ignore',\n",
        "                  suppress_warnings=True,\n",
        "                  information_criterion='aic',\n",
        "                  stepwise=True,\n",
        "                  test = 'kpss',\n",
        "                  score='mape',\n",
        "                   )\n",
        "\n",
        "print(model.aic())"
      ]
    },
    {
      "cell_type": "code",
      "execution_count": 72,
      "metadata": {
        "colab": {
          "base_uri": "https://localhost:8080/"
        },
        "id": "K4pQpTU-QYOp",
        "outputId": "7e27a0d3-107a-4b62-fd75-5bba41bbcac0"
      },
      "outputs": [
        {
          "output_type": "stream",
          "name": "stderr",
          "text": [
            "/usr/local/lib/python3.11/dist-packages/statsmodels/base/model.py:607: ConvergenceWarning:\n",
            "\n",
            "Maximum Likelihood optimization failed to converge. Check mle_retvals\n",
            "\n"
          ]
        },
        {
          "output_type": "stream",
          "name": "stdout",
          "text": [
            "                                        SARIMAX Results                                        \n",
            "===============================================================================================\n",
            "Dep. Variable:                          Scaled_Revenue   No. Observations:                 3718\n",
            "Model:             SARIMAX(1, 0, 0)x(1, 0, [1, 2], 12)   Log Likelihood               18572.728\n",
            "Date:                                 Mon, 24 Feb 2025   AIC                         -37131.456\n",
            "Time:                                         15:16:21   BIC                         -37087.910\n",
            "Sample:                                              0   HQIC                        -37115.963\n",
            "                                                - 3718                                         \n",
            "Covariance Type:                                   opg                                         \n",
            "==============================================================================\n",
            "                 coef    std err          z      P>|z|      [0.025      0.975]\n",
            "------------------------------------------------------------------------------\n",
            "Units       8.674e-06   1.71e-07     50.870      0.000    8.34e-06    9.01e-06\n",
            "COGS        6.756e-08   3.82e-11   1767.972      0.000    6.75e-08    6.76e-08\n",
            "ar.L1          0.2620   9.54e-14   2.75e+12      0.000       0.262       0.262\n",
            "ar.S.L12       0.8428   1.92e-13   4.38e+12      0.000       0.843       0.843\n",
            "ma.S.L12      -0.8101   1.34e-13  -6.04e+12      0.000      -0.810      -0.810\n",
            "ma.S.L24       0.0051   2.75e-13   1.86e+10      0.000       0.005       0.005\n",
            "sigma2      2.759e-06   2.45e-08    112.468      0.000    2.71e-06    2.81e-06\n",
            "===================================================================================\n",
            "Ljung-Box (L1) (Q):                  20.87   Jarque-Bera (JB):             27015.07\n",
            "Prob(Q):                              0.00   Prob(JB):                         0.00\n",
            "Heteroskedasticity (H):               0.98   Skew:                            -0.12\n",
            "Prob(H) (two-sided):                  0.70   Kurtosis:                        16.20\n",
            "===================================================================================\n",
            "\n",
            "Warnings:\n",
            "[1] Covariance matrix calculated using the outer product of gradients (complex-step).\n",
            "[2] Covariance matrix is singular or near-singular, with condition number 2.74e+28. Standard errors may be unstable.\n"
          ]
        }
      ],
      "source": [
        "from statsmodels.tsa.statespace.sarimax import SARIMAX\n",
        "\n",
        "sarima_model = SARIMAX(train['Scaled_Revenue'],\n",
        "                exog = train[['Units', 'COGS']],\n",
        "                order = (1, 0, 0),      # 2, 1, 1\n",
        "                seasonal_order =(1, 0, 2, 12))\n",
        "\n",
        "sarima_result = sarima_model.fit()\n",
        "print(sarima_result.summary())"
      ]
    },
    {
      "cell_type": "code",
      "execution_count": 73,
      "metadata": {
        "colab": {
          "base_uri": "https://localhost:8080/"
        },
        "id": "jx4cmgwEQYOp",
        "outputId": "eaca988a-c3d0-4247-c776-5b788839e578"
      },
      "outputs": [
        {
          "output_type": "stream",
          "name": "stdout",
          "text": [
            "535\n",
            "            Date    Revenue  Units           COGS  Scaled_Revenue\n",
            "3361  2020-01-04  278598.60     40  254098.281402        0.015883\n",
            "3362  2020-01-05  277702.74     46  234413.880309        0.015832\n",
            "3363  2020-01-06  388538.01     53  349731.438021        0.022176\n",
            "3364  2020-01-07  350247.87     40  289803.474828        0.019984\n",
            "3365  2020-01-08  123566.94     12  113248.186317        0.007010\n",
            "           Date     Revenue  Units          COGS  Scaled_Revenue\n",
            "173  2021-06-27  1485477.63    209  1.268182e+06             NaN\n",
            "174  2021-06-28  1796893.56    243  1.548310e+06             NaN\n",
            "175  2021-06-29  2757337.38    369  2.332883e+06             NaN\n",
            "176  2021-06-30  4414445.28    584  3.718496e+06             NaN\n",
            "177  2021-07-01  1619994.60    165  1.359793e+06             NaN\n"
          ]
        }
      ],
      "source": [
        "start_date = '2020-01-04'\n",
        "end_date = '2021-07-01'\n",
        "exog_predict = train[(train['Date'] >= start_date) & (train['Date'] <= end_date)]\n",
        "exog_predict2 = test[(test['Date'] >= start_date) & (test['Date'] <= end_date)]\n",
        "# merge = pd.merge(exog_predict, exog_predict2, on = ['Date', 'Revenue', 'Units', 'COGS'])\n",
        "merge = pd.concat([exog_predict, exog_predict2], axis=0)\n",
        "\n",
        "print(len(merge))\n",
        "print(merge.head())\n",
        "print(merge.tail())"
      ]
    },
    {
      "cell_type": "code",
      "execution_count": 74,
      "metadata": {
        "colab": {
          "base_uri": "https://localhost:8080/",
          "height": 617
        },
        "id": "XnbcFhVPv-JI",
        "outputId": "112c2844-e9b5-4330-cc06-52a6e71a83be"
      },
      "outputs": [
        {
          "output_type": "display_data",
          "data": {
            "text/html": [
              "<html>\n",
              "<head><meta charset=\"utf-8\" /></head>\n",
              "<body>\n",
              "    <div>            <script src=\"https://cdnjs.cloudflare.com/ajax/libs/mathjax/2.7.5/MathJax.js?config=TeX-AMS-MML_SVG\"></script><script type=\"text/javascript\">if (window.MathJax && window.MathJax.Hub && window.MathJax.Hub.Config) {window.MathJax.Hub.Config({SVG: {font: \"STIX-Web\"}});}</script>                <script type=\"text/javascript\">window.PlotlyConfig = {MathJaxConfig: 'local'};</script>\n",
              "        <script charset=\"utf-8\" src=\"https://cdn.plot.ly/plotly-2.35.2.min.js\"></script>                <div id=\"4a07a092-cb2b-4a99-9cf3-42c3c5513d9e\" class=\"plotly-graph-div\" style=\"height:600px; width:1200px;\"></div>            <script type=\"text/javascript\">                                    window.PLOTLYENV=window.PLOTLYENV || {};                                    if (document.getElementById(\"4a07a092-cb2b-4a99-9cf3-42c3c5513d9e\")) {                    Plotly.newPlot(                        \"4a07a092-cb2b-4a99-9cf3-42c3c5513d9e\",                        [{\"name\":\"Test\",\"x\":[\"2021-01-01\",\"2021-01-02\",\"2021-01-03\",\"2021-01-04\",\"2021-01-05\",\"2021-01-06\",\"2021-01-07\",\"2021-01-08\",\"2021-01-09\",\"2021-01-10\",\"2021-01-11\",\"2021-01-12\",\"2021-01-13\",\"2021-01-14\",\"2021-01-15\",\"2021-01-16\",\"2021-01-17\",\"2021-01-18\",\"2021-01-19\",\"2021-01-20\",\"2021-01-21\",\"2021-01-22\",\"2021-01-23\",\"2021-01-24\",\"2021-01-25\",\"2021-01-26\",\"2021-01-27\",\"2021-01-28\",\"2021-01-29\",\"2021-01-30\",\"2021-01-31\",\"2021-02-01\",\"2021-02-02\",\"2021-02-03\",\"2021-02-04\",\"2021-02-05\",\"2021-02-06\",\"2021-02-07\",\"2021-02-08\",\"2021-02-09\",\"2021-02-10\",\"2021-02-11\",\"2021-02-12\",\"2021-02-13\",\"2021-02-14\",\"2021-02-15\",\"2021-02-16\",\"2021-02-17\",\"2021-02-18\",\"2021-02-19\",\"2021-02-20\",\"2021-02-21\",\"2021-02-22\",\"2021-02-23\",\"2021-02-24\",\"2021-02-25\",\"2021-02-26\",\"2021-02-27\",\"2021-03-03\",\"2021-03-04\",\"2021-03-05\",\"2021-03-06\",\"2021-03-07\",\"2021-03-08\",\"2021-03-09\",\"2021-03-10\",\"2021-03-11\",\"2021-03-12\",\"2021-03-13\",\"2021-03-14\",\"2021-03-15\",\"2021-03-16\",\"2021-03-17\",\"2021-03-18\",\"2021-03-19\",\"2021-03-20\",\"2021-03-21\",\"2021-03-22\",\"2021-03-23\",\"2021-03-24\",\"2021-03-25\",\"2021-03-26\",\"2021-03-27\",\"2021-03-28\",\"2021-03-29\",\"2021-03-30\",\"2021-03-31\",\"2021-04-01\",\"2021-04-02\",\"2021-04-03\",\"2021-04-04\",\"2021-04-05\",\"2021-04-06\",\"2021-04-07\",\"2021-04-08\",\"2021-04-09\",\"2021-04-10\",\"2021-04-11\",\"2021-04-12\",\"2021-04-13\",\"2021-04-14\",\"2021-04-15\",\"2021-04-16\",\"2021-04-17\",\"2021-04-18\",\"2021-04-19\",\"2021-04-20\",\"2021-04-21\",\"2021-04-22\",\"2021-04-23\",\"2021-04-24\",\"2021-04-25\",\"2021-04-26\",\"2021-04-27\",\"2021-04-28\",\"2021-04-29\",\"2021-04-30\",\"2021-05-01\",\"2021-05-03\",\"2021-05-04\",\"2021-05-05\",\"2021-05-06\",\"2021-05-07\",\"2021-05-08\",\"2021-05-09\",\"2021-05-10\",\"2021-05-11\",\"2021-05-12\",\"2021-05-13\",\"2021-05-14\",\"2021-05-15\",\"2021-05-16\",\"2021-05-17\",\"2021-05-18\",\"2021-05-19\",\"2021-05-20\",\"2021-05-21\",\"2021-05-22\",\"2021-05-23\",\"2021-05-24\",\"2021-05-25\",\"2021-05-26\",\"2021-05-27\",\"2021-05-28\",\"2021-05-29\",\"2021-05-30\",\"2021-05-31\",\"2021-06-01\",\"2021-06-02\",\"2021-06-03\",\"2021-06-04\",\"2021-06-05\",\"2021-06-06\",\"2021-06-07\",\"2021-06-08\",\"2021-06-09\",\"2021-06-10\",\"2021-06-11\",\"2021-06-12\",\"2021-06-13\",\"2021-06-14\",\"2021-06-15\",\"2021-06-16\",\"2021-06-17\",\"2021-06-18\",\"2021-06-19\",\"2021-06-20\",\"2021-06-21\",\"2021-06-22\",\"2021-06-23\",\"2021-06-24\",\"2021-06-25\",\"2021-06-26\",\"2021-06-27\",\"2021-06-28\",\"2021-06-29\",\"2021-06-30\",\"2021-07-01\",\"2021-07-03\",\"2021-07-04\",\"2021-07-05\",\"2021-07-06\",\"2021-07-07\",\"2021-07-08\",\"2021-07-09\",\"2021-07-10\",\"2021-07-11\",\"2021-07-12\",\"2021-07-13\",\"2021-07-14\",\"2021-07-15\",\"2021-07-16\",\"2021-07-17\",\"2021-07-18\",\"2021-07-19\",\"2021-07-20\",\"2021-07-21\",\"2021-07-22\",\"2021-07-23\",\"2021-07-24\",\"2021-07-25\",\"2021-07-26\",\"2021-07-27\",\"2021-07-28\",\"2021-07-29\",\"2021-07-30\",\"2021-07-31\",\"2021-08-01\",\"2021-08-02\",\"2021-08-03\",\"2021-08-04\",\"2021-08-05\",\"2021-08-06\",\"2021-08-07\",\"2021-08-08\",\"2021-08-09\",\"2021-08-10\",\"2021-08-11\",\"2021-08-12\",\"2021-08-13\",\"2021-08-14\",\"2021-08-15\",\"2021-08-16\",\"2021-08-17\",\"2021-08-18\",\"2021-08-19\",\"2021-08-20\",\"2021-08-21\",\"2021-08-22\",\"2021-08-23\",\"2021-08-24\",\"2021-08-25\",\"2021-08-26\",\"2021-08-27\",\"2021-08-28\",\"2021-08-29\",\"2021-08-30\",\"2021-08-31\",\"2021-09-01\",\"2021-09-02\",\"2021-09-03\",\"2021-09-04\",\"2021-09-05\",\"2021-09-06\",\"2021-09-07\",\"2021-09-08\",\"2021-09-09\",\"2021-09-10\",\"2021-09-11\",\"2021-09-12\",\"2021-09-13\",\"2021-09-14\",\"2021-09-15\",\"2021-09-16\",\"2021-09-17\",\"2021-09-18\",\"2021-09-19\",\"2021-09-20\",\"2021-09-21\",\"2021-09-22\",\"2021-09-23\",\"2021-09-24\",\"2021-09-25\",\"2021-09-26\",\"2021-09-27\",\"2021-09-28\",\"2021-09-29\",\"2021-10-01\",\"2021-10-02\",\"2021-10-03\",\"2021-10-04\",\"2021-10-05\",\"2021-10-06\",\"2021-10-07\",\"2021-10-08\",\"2021-10-09\",\"2021-10-10\",\"2021-10-11\",\"2021-10-12\",\"2021-10-13\",\"2021-10-14\",\"2021-10-15\",\"2021-10-16\",\"2021-10-17\",\"2021-10-18\",\"2021-10-19\",\"2021-10-20\",\"2021-10-21\",\"2021-10-22\",\"2021-10-23\",\"2021-10-24\",\"2021-10-25\",\"2021-10-26\",\"2021-10-27\",\"2021-10-28\",\"2021-10-29\",\"2021-10-30\",\"2021-10-31\",\"2021-11-01\",\"2021-11-02\",\"2021-11-03\",\"2021-11-04\",\"2021-11-05\",\"2021-11-06\",\"2021-11-07\",\"2021-11-08\",\"2021-11-09\",\"2021-11-10\",\"2021-11-11\",\"2021-11-12\",\"2021-11-13\",\"2021-11-14\",\"2021-11-15\",\"2021-11-16\",\"2021-11-17\",\"2021-11-18\",\"2021-11-19\",\"2021-11-20\",\"2021-11-21\",\"2021-11-22\",\"2021-11-23\",\"2021-11-24\",\"2021-11-25\",\"2021-11-26\",\"2021-11-28\",\"2021-11-29\",\"2021-12-01\",\"2021-12-02\",\"2021-12-03\",\"2021-12-04\",\"2021-12-05\",\"2021-12-06\",\"2021-12-07\",\"2021-12-08\",\"2021-12-09\",\"2021-12-10\",\"2021-12-11\",\"2021-12-12\",\"2021-12-13\",\"2021-12-14\",\"2021-12-15\",\"2021-12-16\",\"2021-12-17\",\"2021-12-18\",\"2021-12-19\",\"2021-12-20\",\"2021-12-21\",\"2021-12-22\",\"2021-12-23\",\"2021-12-24\",\"2021-12-25\",\"2021-12-26\",\"2021-12-27\",\"2021-12-28\",\"2021-12-29\",\"2021-12-30\",\"2021-12-31\",\"2022-01-01\",\"2022-01-02\",\"2022-01-03\",\"2022-01-04\",\"2022-01-05\",\"2022-01-06\",\"2022-01-07\",\"2022-01-08\",\"2022-01-09\",\"2022-01-10\",\"2022-01-11\",\"2022-01-12\",\"2022-01-13\",\"2022-01-14\",\"2022-01-15\",\"2022-01-16\",\"2022-01-17\",\"2022-01-18\",\"2022-01-19\",\"2022-01-20\",\"2022-01-21\",\"2022-01-22\",\"2022-01-23\",\"2022-01-24\",\"2022-01-25\",\"2022-01-26\",\"2022-01-27\",\"2022-01-28\",\"2022-01-29\",\"2022-01-30\",\"2022-01-31\",\"2022-02-01\",\"2022-02-02\",\"2022-02-03\",\"2022-02-04\",\"2022-02-05\",\"2022-02-06\",\"2022-02-07\",\"2022-02-08\",\"2022-02-09\",\"2022-02-10\",\"2022-02-11\",\"2022-02-12\",\"2022-02-13\",\"2022-02-14\",\"2022-02-15\",\"2022-02-16\",\"2022-02-17\",\"2022-02-18\",\"2022-02-19\",\"2022-02-20\",\"2022-02-21\",\"2022-02-22\",\"2022-02-23\",\"2022-02-24\",\"2022-02-25\",\"2022-02-26\",\"2022-02-27\",\"2022-03-03\",\"2022-03-04\",\"2022-03-05\",\"2022-03-06\",\"2022-03-07\",\"2022-03-08\",\"2022-03-09\",\"2022-03-10\",\"2022-03-11\",\"2022-03-12\",\"2022-03-13\",\"2022-03-14\",\"2022-03-15\",\"2022-03-16\",\"2022-03-17\",\"2022-03-18\",\"2022-03-19\",\"2022-03-20\",\"2022-03-21\",\"2022-03-22\",\"2022-03-23\",\"2022-03-24\",\"2022-03-25\",\"2022-03-26\",\"2022-03-27\",\"2022-03-28\",\"2022-03-29\",\"2022-03-30\",\"2022-03-31\",\"2022-04-01\",\"2022-04-02\",\"2022-04-03\",\"2022-04-04\",\"2022-04-05\",\"2022-04-06\",\"2022-04-07\",\"2022-04-08\",\"2022-04-09\",\"2022-04-10\",\"2022-04-11\",\"2022-04-12\",\"2022-04-13\",\"2022-04-14\",\"2022-04-15\",\"2022-04-16\",\"2022-04-17\",\"2022-04-18\",\"2022-04-19\",\"2022-04-20\",\"2022-04-21\",\"2022-04-22\",\"2022-04-23\",\"2022-04-24\",\"2022-04-25\",\"2022-04-26\",\"2022-04-27\",\"2022-04-28\",\"2022-04-29\",\"2022-04-30\",\"2022-05-01\",\"2022-05-03\",\"2022-05-04\",\"2022-05-05\",\"2022-05-06\",\"2022-05-07\",\"2022-05-08\",\"2022-05-09\",\"2022-05-10\",\"2022-05-11\",\"2022-05-12\",\"2022-05-13\",\"2022-05-14\",\"2022-05-15\",\"2022-05-16\",\"2022-05-17\",\"2022-05-18\",\"2022-05-19\",\"2022-05-20\",\"2022-05-21\",\"2022-05-22\",\"2022-05-23\",\"2022-05-24\",\"2022-05-25\",\"2022-05-26\",\"2022-05-27\",\"2022-05-28\",\"2022-05-29\",\"2022-05-30\",\"2022-05-31\",\"2022-06-01\",\"2022-06-02\",\"2022-06-03\",\"2022-06-04\",\"2022-06-05\",\"2022-06-06\",\"2022-06-07\",\"2022-06-08\",\"2022-06-09\",\"2022-06-10\",\"2022-06-11\",\"2022-06-12\",\"2022-06-13\",\"2022-06-14\",\"2022-06-15\",\"2022-06-16\",\"2022-06-17\",\"2022-06-18\",\"2022-06-19\",\"2022-06-20\",\"2022-06-21\",\"2022-06-22\",\"2022-06-23\",\"2022-06-24\",\"2022-06-25\",\"2022-06-26\",\"2022-06-27\",\"2022-06-28\",\"2022-06-29\",\"2022-06-30\",\"2022-07-01\"],\"y\":[189558.81,280406.7,317656.08,373463.37,31120.11,581050.26,500706.36,551437.11,342037.71,474934.32,442585.71,103408.83,681686.46,876155.49,476100.45,447057.45,515667.6,542375.8200000001,65421.72,554461.74,896043.33,729913.59,743846.67,716045.4,390029.22000000003,168731.01,627023.88,1022085.54,916689.6900000001,2454445.35,391980.96,401328.27,151315.92,470806.56,653708.79,708942.78,555324.84,790046.46,541560.6,163996.56,702124.29,1027688.13,728564.13,752405.85,1086270.57,608944.77,139599.81,811349.91,1173116.07,798878.43,900944.1,1029170.52,917119.35,131802.93,1098439.02,1569876.84,1379845.53,2951024.58,525154.77,517628.16000000003,102274.20000000001,693880.74,973334.25,738344.88,837054.54,1033419.24,1093249.71,184604.49000000002,1507591.26,1642648.1400000001,1126821.15,1204618.59,1744010.73,794619.0,353629.71,1441710.27,1422517.32,1207435.32,1250295.48,1267589.61,1036469.7000000001,202010.13,1337742.6300000001,1766500.47,1655037.72,1806611.94,2785854.33,5418926.100000001,358361.01,597143.61,688887.99,945627.48,1330886.34,908766.18,203193.27000000002,1701464.94,1689276.33,1207941.21,1331775.27,1540957.32,1552374.1800000002,463932.63,1991041.29,1596860.37,1422993.6,1292815.44,1222697.07,1095329.34,246429.54,1552203.45,1890080.6400000001,1811650.05,1961755.11,1588533.6600000001,1434189.33,365735.79,2630880.0,6062249.97,590815.26,897693.3,934383.24,1005326.91,337471.47000000003,1084013.91,1823934.42,1437745.68,1302028.56,1777742.19,1392044.22,249229.89,1824447.87,2040993.36,2400272.91,1098554.94,1622399.31,960125.04,242030.25,1641022.11,1782171.09,1532355.3,1498383.81,1523215.26,1434311.55,228354.21000000002,634388.58,2890477.17,2200292.64,7765969.05,582668.73,142827.93,985202.1900000001,1315600.02,1181189.52,858897.9,1321394.76,1386927.36,271150.74,1450154.79,1846116.09,1248811.2,1237766.04,1522286.01,1780499.7,256143.51,1576719.9000000001,1611697.5,1152543.42,1473255.0,1457630.37,1262678.76,358561.35000000003,1494281.25,2286966.7800000003,1485477.6300000001,1796893.56,2757337.38,4414445.28,1619994.6,389723.04000000004,813650.67,915482.61,110245.59,968045.4,1291731.84,192075.03,1294366.5,1321211.43,1489454.82,1245813.66,1364123.8800000001,1277847.27,418644.45,1735772.85,1211520.24,1139737.41,1164369.1500000001,1176426.09,1076290.11,265531.14,1478501.01,1521725.94,1268724.24,1410031.98,1376144.28,1024525.53,352348.29000000004,1530228.42,2070326.1600000001,4074999.39,508650.03,658474.74,852830.37,186028.92,1003401.0,1147293.0,1183581.6300000001,971126.1,851947.74,928882.0800000001,202564.53,1074619.98,1208665.08,1184271.48,1362493.44,1007264.79,907574.22,144280.71,1282811.04,1144098.27,1065827.07,1188475.47,1532815.83,1215091.71,310825.62,1637271.72,2273178.6,10183178.88,128627.1,78281.28,626202.36,783507.06,786507.75,984112.29,1121088.1500000001,297717.84,1254559.95,1407561.75,1074893.4000000001,1189282.5,1480502.52,1612637.46,713691.0900000001,1138484.97,987282.4500000001,1178966.25,980571.6900000001,1130239.53,1125984.51,309931.02,1244278.35,1288304.6400000001,1249750.53,1289174.67,1593894.96,1619300.97,432380.97000000003,3462095.0700000003,621564.93,552515.67,628269.39,938840.49,610756.02,123025.77,826884.4500000001,951078.87,1090700.73,654330.6,1253789.46,789897.15,223316.73,1191986.46,1440210.87,695449.4400000001,609596.19,703008.1799999999,572638.5,61661.25,774860.9400000001,1123035.48,958276.62,962476.8300000001,1091635.65,1104843.6,101268.72,1024812.81,865585.98,4378428.18,448820.82,477322.65,69800.22,496943.37,730788.66,494137.98,574435.89,788405.9400000001,673880.76,184726.71000000002,983271.24,1035195.84,850651.83,865611.81,1183102.83,674662.59,77187.6,625520.0700000001,859411.98,695441.25,754862.85,620823.42,556666.11,108549.63,767277.63,915115.3200000001,947862.72,1261420.02,2420500.32,68721.66,403119.99,369703.53,435474.9,581703.5700000001,499739.94,456922.62,95087.79000000001,519148.35000000003,577895.85,586920.6,535529.61,801058.23,409535.28,268449.3,642326.58,752904.18,774478.53,676259.01,832744.08,773027.64,153623.61000000002,1324941.03,789343.38,17954.37,898088.31,1069661.8800000001,804855.87,169633.17,3605031.36,32253.48,241495.38,292027.05,320206.95,104858.46,287724.78,453451.95,249154.92,347831.19,563018.4,448524.72000000003,116986.59,621432.63,724345.02,775153.89,431809.56,570972.78,611431.38,56501.55,595917.0,763781.13,817031.25,672368.76,713663.37,787850.28,100159.92,836277.12,806380.47,848661.66,925359.12,2547370.35,327487.86,131504.31,485096.85000000003,554316.84,438219.18,600939.99,690556.86,536753.0700000001,59462.55,633500.91,926220.96,846144.81,572311.53,1015846.65,1113929.46,185426.01,615979.35,924931.35,855602.37,834521.31,1285080.3,1103213.79,118885.41,1091975.22,1314419.4,1307299.77,1324668.87,4382293.86,534054.78,192071.25,633987.27,676885.23,862216.74,965178.27,927722.88,816596.55,308092.05,1173665.43,1440864.18,1311110.01,1152782.19,1780991.1,2164251.6,382555.53,1200027.78,1101115.8900000001,1382304.42,1415940.12,1405068.84,1094419.62,231355.53,1353618.6300000001,1803379.41,1635527.8800000001,1410110.1,2182013.82,2296905.66,5653577.79,744260.5800000001,772024.05,773320.59,1110644.01,805974.75,280968.03,1525501.53,1523656.8900000001,1078144.83,1223379.99,1653206.31,1439791.92,371356.02,2430908.5500000003,2781140.04,1330384.23,1522012.59,1680984.27,1247803.2,30074.940000000002,1728982.71,2069968.32,1771136.01,1568430.99,1868858.46,1680988.68,433317.78,2196431.37,3270486.24,5981509.8,748938.96,778095.99,961075.71,243785.43,1231329.96,1392248.34,1449623.7,1585334.52,1989631.98,1161752.1300000001,278186.58,1501102.26,1806569.1,1839618.27,2416173.48,1651149.99,1267267.68,255592.89,1841879.97,1891202.6700000002,1367041.4100000001,1882371.96,1784946.24,1430984.52,406863.45,549565.38,2382903.18,2233678.86,2073892.59,9327132.99,217413.0,386121.96,861012.18,948841.11,1303131.06,1059695.28,1032181.29,175093.38,1628776.8,1293238.17,1399168.26,1472478.84,1698846.6600000001,1816892.28,731090.43,1402559.55,1618802.01,1424712.24,1307560.59,1474255.44,1080938.25,148627.08000000002,1575025.83,1424188.08,1569881.8800000001,1616498.73,2024019.27,2265602.85,700389.9,5274388.35],\"type\":\"scatter\"},{\"name\":\"Forecast\",\"x\":[\"2021-01-01\",\"2021-01-02\",\"2021-01-03\",\"2021-01-04\",\"2021-01-05\",\"2021-01-06\",\"2021-01-07\",\"2021-01-08\",\"2021-01-09\",\"2021-01-10\",\"2021-01-11\",\"2021-01-12\",\"2021-01-13\",\"2021-01-14\",\"2021-01-15\",\"2021-01-16\",\"2021-01-17\",\"2021-01-18\",\"2021-01-19\",\"2021-01-20\",\"2021-01-21\",\"2021-01-22\",\"2021-01-23\",\"2021-01-24\",\"2021-01-25\",\"2021-01-26\",\"2021-01-27\",\"2021-01-28\",\"2021-01-29\",\"2021-01-30\",\"2021-01-31\",\"2021-02-01\",\"2021-02-02\",\"2021-02-03\",\"2021-02-04\",\"2021-02-05\",\"2021-02-06\",\"2021-02-07\",\"2021-02-08\",\"2021-02-09\",\"2021-02-10\",\"2021-02-11\",\"2021-02-12\",\"2021-02-13\",\"2021-02-14\",\"2021-02-15\",\"2021-02-16\",\"2021-02-17\",\"2021-02-18\",\"2021-02-19\",\"2021-02-20\",\"2021-02-21\",\"2021-02-22\",\"2021-02-23\",\"2021-02-24\",\"2021-02-25\",\"2021-02-26\",\"2021-02-27\",\"2021-03-03\",\"2021-03-04\",\"2021-03-05\",\"2021-03-06\",\"2021-03-07\",\"2021-03-08\",\"2021-03-09\",\"2021-03-10\",\"2021-03-11\",\"2021-03-12\",\"2021-03-13\",\"2021-03-14\",\"2021-03-15\",\"2021-03-16\",\"2021-03-17\",\"2021-03-18\",\"2021-03-19\",\"2021-03-20\",\"2021-03-21\",\"2021-03-22\",\"2021-03-23\",\"2021-03-24\",\"2021-03-25\",\"2021-03-26\",\"2021-03-27\",\"2021-03-28\",\"2021-03-29\",\"2021-03-30\",\"2021-03-31\",\"2021-04-01\",\"2021-04-02\",\"2021-04-03\",\"2021-04-04\",\"2021-04-05\",\"2021-04-06\",\"2021-04-07\",\"2021-04-08\",\"2021-04-09\",\"2021-04-10\",\"2021-04-11\",\"2021-04-12\",\"2021-04-13\",\"2021-04-14\",\"2021-04-15\",\"2021-04-16\",\"2021-04-17\",\"2021-04-18\",\"2021-04-19\",\"2021-04-20\",\"2021-04-21\",\"2021-04-22\",\"2021-04-23\",\"2021-04-24\",\"2021-04-25\",\"2021-04-26\",\"2021-04-27\",\"2021-04-28\",\"2021-04-29\",\"2021-04-30\",\"2021-05-01\",\"2021-05-03\",\"2021-05-04\",\"2021-05-05\",\"2021-05-06\",\"2021-05-07\",\"2021-05-08\",\"2021-05-09\",\"2021-05-10\",\"2021-05-11\",\"2021-05-12\",\"2021-05-13\",\"2021-05-14\",\"2021-05-15\",\"2021-05-16\",\"2021-05-17\",\"2021-05-18\",\"2021-05-19\",\"2021-05-20\",\"2021-05-21\",\"2021-05-22\",\"2021-05-23\",\"2021-05-24\",\"2021-05-25\",\"2021-05-26\",\"2021-05-27\",\"2021-05-28\",\"2021-05-29\",\"2021-05-30\",\"2021-05-31\",\"2021-06-01\",\"2021-06-02\",\"2021-06-03\",\"2021-06-04\",\"2021-06-05\",\"2021-06-06\",\"2021-06-07\",\"2021-06-08\",\"2021-06-09\",\"2021-06-10\",\"2021-06-11\",\"2021-06-12\",\"2021-06-13\",\"2021-06-14\",\"2021-06-15\",\"2021-06-16\",\"2021-06-17\",\"2021-06-18\",\"2021-06-19\",\"2021-06-20\",\"2021-06-21\",\"2021-06-22\",\"2021-06-23\",\"2021-06-24\",\"2021-06-25\",\"2021-06-26\",\"2021-06-27\",\"2021-06-28\",\"2021-06-29\",\"2021-06-30\",\"2021-07-01\",\"2021-07-03\",\"2021-07-04\",\"2021-07-05\",\"2021-07-06\",\"2021-07-07\",\"2021-07-08\",\"2021-07-09\",\"2021-07-10\",\"2021-07-11\",\"2021-07-12\",\"2021-07-13\",\"2021-07-14\",\"2021-07-15\",\"2021-07-16\",\"2021-07-17\",\"2021-07-18\",\"2021-07-19\",\"2021-07-20\",\"2021-07-21\",\"2021-07-22\",\"2021-07-23\",\"2021-07-24\",\"2021-07-25\",\"2021-07-26\",\"2021-07-27\",\"2021-07-28\",\"2021-07-29\",\"2021-07-30\",\"2021-07-31\",\"2021-08-01\",\"2021-08-02\",\"2021-08-03\",\"2021-08-04\",\"2021-08-05\",\"2021-08-06\",\"2021-08-07\",\"2021-08-08\",\"2021-08-09\",\"2021-08-10\",\"2021-08-11\",\"2021-08-12\",\"2021-08-13\",\"2021-08-14\",\"2021-08-15\",\"2021-08-16\",\"2021-08-17\",\"2021-08-18\",\"2021-08-19\",\"2021-08-20\",\"2021-08-21\",\"2021-08-22\",\"2021-08-23\",\"2021-08-24\",\"2021-08-25\",\"2021-08-26\",\"2021-08-27\",\"2021-08-28\",\"2021-08-29\",\"2021-08-30\",\"2021-08-31\",\"2021-09-01\",\"2021-09-02\",\"2021-09-03\",\"2021-09-04\",\"2021-09-05\",\"2021-09-06\",\"2021-09-07\",\"2021-09-08\",\"2021-09-09\",\"2021-09-10\",\"2021-09-11\",\"2021-09-12\",\"2021-09-13\",\"2021-09-14\",\"2021-09-15\",\"2021-09-16\",\"2021-09-17\",\"2021-09-18\",\"2021-09-19\",\"2021-09-20\",\"2021-09-21\",\"2021-09-22\",\"2021-09-23\",\"2021-09-24\",\"2021-09-25\",\"2021-09-26\",\"2021-09-27\",\"2021-09-28\",\"2021-09-29\",\"2021-10-01\",\"2021-10-02\",\"2021-10-03\",\"2021-10-04\",\"2021-10-05\",\"2021-10-06\",\"2021-10-07\",\"2021-10-08\",\"2021-10-09\",\"2021-10-10\",\"2021-10-11\",\"2021-10-12\",\"2021-10-13\",\"2021-10-14\",\"2021-10-15\",\"2021-10-16\",\"2021-10-17\",\"2021-10-18\",\"2021-10-19\",\"2021-10-20\",\"2021-10-21\",\"2021-10-22\",\"2021-10-23\",\"2021-10-24\",\"2021-10-25\",\"2021-10-26\",\"2021-10-27\",\"2021-10-28\",\"2021-10-29\",\"2021-10-30\",\"2021-10-31\",\"2021-11-01\",\"2021-11-02\",\"2021-11-03\",\"2021-11-04\",\"2021-11-05\",\"2021-11-06\",\"2021-11-07\",\"2021-11-08\",\"2021-11-09\",\"2021-11-10\",\"2021-11-11\",\"2021-11-12\",\"2021-11-13\",\"2021-11-14\",\"2021-11-15\",\"2021-11-16\",\"2021-11-17\",\"2021-11-18\",\"2021-11-19\",\"2021-11-20\",\"2021-11-21\",\"2021-11-22\",\"2021-11-23\",\"2021-11-24\",\"2021-11-25\",\"2021-11-26\",\"2021-11-28\",\"2021-11-29\",\"2021-12-01\",\"2021-12-02\",\"2021-12-03\",\"2021-12-04\",\"2021-12-05\",\"2021-12-06\",\"2021-12-07\",\"2021-12-08\",\"2021-12-09\",\"2021-12-10\",\"2021-12-11\",\"2021-12-12\",\"2021-12-13\",\"2021-12-14\",\"2021-12-15\",\"2021-12-16\",\"2021-12-17\",\"2021-12-18\",\"2021-12-19\",\"2021-12-20\",\"2021-12-21\",\"2021-12-22\",\"2021-12-23\",\"2021-12-24\",\"2021-12-25\",\"2021-12-26\",\"2021-12-27\",\"2021-12-28\",\"2021-12-29\",\"2021-12-30\",\"2021-12-31\",\"2022-01-01\",\"2022-01-02\",\"2022-01-03\",\"2022-01-04\",\"2022-01-05\",\"2022-01-06\",\"2022-01-07\",\"2022-01-08\",\"2022-01-09\",\"2022-01-10\",\"2022-01-11\",\"2022-01-12\",\"2022-01-13\",\"2022-01-14\",\"2022-01-15\",\"2022-01-16\",\"2022-01-17\",\"2022-01-18\",\"2022-01-19\",\"2022-01-20\",\"2022-01-21\",\"2022-01-22\",\"2022-01-23\",\"2022-01-24\",\"2022-01-25\",\"2022-01-26\",\"2022-01-27\",\"2022-01-28\",\"2022-01-29\",\"2022-01-30\",\"2022-01-31\",\"2022-02-01\",\"2022-02-02\",\"2022-02-03\",\"2022-02-04\",\"2022-02-05\",\"2022-02-06\",\"2022-02-07\",\"2022-02-08\",\"2022-02-09\",\"2022-02-10\",\"2022-02-11\",\"2022-02-12\",\"2022-02-13\",\"2022-02-14\",\"2022-02-15\",\"2022-02-16\",\"2022-02-17\",\"2022-02-18\",\"2022-02-19\",\"2022-02-20\",\"2022-02-21\",\"2022-02-22\",\"2022-02-23\",\"2022-02-24\",\"2022-02-25\",\"2022-02-26\",\"2022-02-27\",\"2022-03-03\",\"2022-03-04\",\"2022-03-05\",\"2022-03-06\",\"2022-03-07\",\"2022-03-08\",\"2022-03-09\",\"2022-03-10\",\"2022-03-11\",\"2022-03-12\",\"2022-03-13\",\"2022-03-14\",\"2022-03-15\",\"2022-03-16\",\"2022-03-17\",\"2022-03-18\",\"2022-03-19\",\"2022-03-20\",\"2022-03-21\",\"2022-03-22\",\"2022-03-23\",\"2022-03-24\",\"2022-03-25\",\"2022-03-26\",\"2022-03-27\",\"2022-03-28\",\"2022-03-29\",\"2022-03-30\",\"2022-03-31\",\"2022-04-01\",\"2022-04-02\",\"2022-04-03\",\"2022-04-04\",\"2022-04-05\",\"2022-04-06\",\"2022-04-07\",\"2022-04-08\",\"2022-04-09\",\"2022-04-10\",\"2022-04-11\",\"2022-04-12\",\"2022-04-13\",\"2022-04-14\",\"2022-04-15\",\"2022-04-16\",\"2022-04-17\",\"2022-04-18\",\"2022-04-19\",\"2022-04-20\",\"2022-04-21\",\"2022-04-22\",\"2022-04-23\",\"2022-04-24\",\"2022-04-25\",\"2022-04-26\",\"2022-04-27\",\"2022-04-28\",\"2022-04-29\",\"2022-04-30\",\"2022-05-01\",\"2022-05-03\",\"2022-05-04\",\"2022-05-05\",\"2022-05-06\",\"2022-05-07\",\"2022-05-08\",\"2022-05-09\",\"2022-05-10\",\"2022-05-11\",\"2022-05-12\",\"2022-05-13\",\"2022-05-14\",\"2022-05-15\",\"2022-05-16\",\"2022-05-17\",\"2022-05-18\",\"2022-05-19\",\"2022-05-20\",\"2022-05-21\",\"2022-05-22\",\"2022-05-23\",\"2022-05-24\",\"2022-05-25\",\"2022-05-26\",\"2022-05-27\",\"2022-05-28\",\"2022-05-29\",\"2022-05-30\",\"2022-05-31\",\"2022-06-01\",\"2022-06-02\",\"2022-06-03\",\"2022-06-04\",\"2022-06-05\",\"2022-06-06\",\"2022-06-07\",\"2022-06-08\",\"2022-06-09\",\"2022-06-10\",\"2022-06-11\",\"2022-06-12\",\"2022-06-13\",\"2022-06-14\",\"2022-06-15\",\"2022-06-16\",\"2022-06-17\",\"2022-06-18\",\"2022-06-19\",\"2022-06-20\",\"2022-06-21\",\"2022-06-22\",\"2022-06-23\",\"2022-06-24\",\"2022-06-25\",\"2022-06-26\",\"2022-06-27\",\"2022-06-28\",\"2022-06-29\",\"2022-06-30\",\"2022-07-01\"],\"y\":[305354.4120329251,282747.78860915976,418933.49673799734,344525.5586477092,133849.70012140516,655944.570030189,579298.3000286678,561341.9082945464,565757.7178813329,592819.6001928448,539378.9333725204,103844.51754297859,554616.8560082979,884151.3065397571,573934.7202938208,506132.8330771525,533459.7581820629,543910.7743391356,123790.81127103267,499702.6555563292,868607.746282728,557899.507650413,625612.7141218284,1020878.6825246116,743433.7100151359,160847.16781041762,1427571.7300652633,2639923.833120114,556240.6145474984,406709.7037910143,459411.4229680987,457600.3389791258,56062.86447867057,662248.9749835015,782932.1787974266,642181.820529206,591919.8215645098,662018.4229553083,622599.4630775171,90426.95153087063,752352.5161378164,1158598.7020612226,814747.5598329887,1011521.7181262225,942476.0355872759,760725.8286935407,160381.63577475087,934192.1410456909,1374262.2462142806,1291167.736797609,900435.6563635864,1217526.9034583126,1035608.698912749,131174.9623155137,1106503.3570029398,2256747.291806378,3961256.73143473,372508.34250923723,511745.99005932006,667922.7297463309,173504.003843706,1075419.42765013,1282981.7455386715,1191342.9440161397,1182516.4000775618,1334582.31386081,1103156.3470560908,274273.24696744693,1398823.2662763505,1629589.601484582,2024073.1352961552,1547468.5824350545,1576767.1709036292,1078270.5002749793,228015.4207521462,1800389.911789108,2100168.0152712027,1804711.245961877,1673355.5675855917,1863352.0131600183,1596476.6397644137,251210.32213260286,2203293.9575683894,2502023.8793221363,2393739.2988661765,2253511.548690803,9789842.838123493,132893.27563836795,713310.6495407915,846275.0909420553,844892.8876893179,946732.8306880415,1146032.6838456844,1091885.082749175,47589.424719810566,1587110.0068742442,1693991.5832504993,1472269.9716529488,1474632.225794119,2048267.3529906995,1936262.1290112846,365112.676632061,1611519.9549010554,1711733.2715742576,1158618.3263613074,1630916.069467959,1433673.2851565303,989814.3515311223,182973.22319264335,1866398.2508491965,1876597.0177988845,1658199.532016572,1756135.1478835861,2318661.932748478,2268710.4517202107,450227.89429886796,4881462.179892386,693788.7552859666,545837.272763939,896334.9917431695,1368353.5585482626,970833.0531960621,207711.5173599086,1130186.9889846956,1507611.6216847803,1132118.4334589925,1355050.0360399678,1803550.724749521,1474710.397117647,139672.18156051554,1682174.869489973,2471967.0458683847,1283021.7216616569,1243766.121176264,1674434.133566711,1256982.8292940466,203822.99473183183,1631696.3688188237,1877019.7743600467,1441289.8848280753,1861172.9998319328,1916207.4943901293,1404047.890876094,302522.1835607427,475737.6680176728,2979045.145451989,7920303.656897848,633616.1780217612,650500.1711921135,171844.4620589147,945342.9460388009,1460452.1909324464,961652.3192975465,1177544.8317962354,1069309.2205865972,1108826.918675276,230658.18022694413,1250974.7633142953,1985076.4398575362,1724781.8481746602,1466479.4405361642,1923971.321014832,1291349.3638443893,244192.8098275827,1338210.0792651374,1760053.2962604251,1279745.5609046677,1474618.2351292607,1317483.732300426,1242391.4779866438,316071.55662037776,1490923.5228017261,1953525.0253331151,1564104.1003057405,2181071.4327942356,2872232.2038286827,4656001.64072118,186652.92500357018,439760.63262916746,874572.9851416941,122039.76763503235,839428.0961173581,1203280.1091332482,845412.0086981758,273360.9843555692,1042203.4538494884,1635166.478844781,1312676.8213028307,1221411.9635225916,1409689.8921614592,1201847.5041777862,470582.1820344977,1055953.5019112672,1157869.7507976368,1186606.7225666316,1171639.9208422923,1130210.57741903,994884.1972347304,163671.6265410754,1284876.850827504,1405519.7743619985,1285667.928689864,1064119.98807346,1150085.2258487574,1223706.9233888234,144529.99834036562,1650238.727934032,3593202.3339325134,486631.48005927296,524458.8748774168,918225.5980492912,692385.937487924,172384.10315184362,896860.351583421,1255504.0514665844,992178.2695619654,813654.6620236728,715157.5786076204,918506.5866807043,250974.11666480982,1013498.9221034748,1280121.2106451655,1301591.6232062466,799487.2773917672,895938.7400918665,806676.0345836335,118223.24660739393,1065886.5273113279,1178075.6671912156,1040676.402754666,932821.7837194544,1301388.8118952934,1208488.7908202559,218626.93630150057,1033518.2347312345,8206788.62715606,395525.6295298892,78575.39008434996,176677.51138718266,934831.6084767291,694385.9057860482,714536.6987175052,884190.1916999276,672480.3351774219,219342.2791167235,975504.1321984162,1251724.5318252267,913776.8728857692,1177629.6685352034,1234119.7160478618,1143774.0423020967,146436.33818374193,966148.6148761826,939967.1276285325,820114.8986227347,814895.7108425606,1085186.5611507169,996539.8004663592,111284.9682380884,1004829.9684744945,1586345.594195691,1139039.5888043342,986820.1755594914,1827363.3721754656,3023671.7045706976,1042223.2767874452,365481.2770094284,623918.540955878,491536.5077972731,739723.74835842,701152.9833223483,528639.2312577574,141246.11832048628,724368.8286950475,897793.478492895,776785.8522083851,662319.5441613334,756832.1012965416,670037.8471050188,223222.4978519414,695696.592326677,765592.1587576723,974112.2554729738,782965.4138493293,803250.37215739,759238.9488870187,100950.81923486463,852637.4994808462,1137631.0910622296,803590.5085224329,1001338.6140837468,861626.4477839363,662096.3467608223,114421.39228407564,786451.0046159207,3601390.3215866177,288467.9917400878,470558.6664310659,427983.05674689746,104266.58983063065,590132.0889420608,756295.7671502759,512564.83347964834,621727.6263453386,483185.8144563888,357005.82650466927,55081.75753708897,602070.4254118643,829526.5091945105,526163.667955881,547300.2770871063,516171.6642262445,517089.13281473203,107782.63362858286,598862.6801724053,911067.5655459331,685938.6444254705,11357.788446297069,613415.370152762,546422.9963833329,129642.87052521681,823238.6956241867,925454.5061959692,901099.8487341097,779069.1839791469,2301214.0899563287,422043.7788311172,62462.05164888506,316153.0440703245,399022.8940144258,349115.78170668986,522908.72618437523,609842.8632510465,348939.3776679612,81994.6304321643,700286.9601257292,842756.5434767056,659667.2112285835,612240.3920444507,739774.2624360096,879007.1538348674,86389.05883964968,648283.6871954425,1004143.5277869188,722011.3929667061,810826.1965593658,1143681.8747559818,849660.4760864176,87650.57878250454,546017.8215039339,11614.341173279241,1090054.0456940753,1116277.4685002328,1045492.5880664266,1329522.0400060567,2208332.36001932,16155.987286742493,186727.17303109504,307778.4181866486,327423.58594128856,380764.0151974576,28096.73199074328,606707.2700487986,490993.05934131914,557039.5181361056,347302.09335413214,500127.1712575847,457333.55998464645,103634.50670347708,713395.1391580864,872047.5452620737,473772.1071268402,475438.3983747349,508246.4763183533,554556.1313262541,70429.50148536035,563739.2586307162,898261.4988653375,753874.8360743868,754578.7012273535,713526.0004834904,401308.11991141835,177220.73488106744,644838.5540831506,1050268.4355200822,923265.0754145011,2517329.8565748213,401128.03017923277,416384.96603380406,170759.28919921682,490800.8069398749,647659.7472230599,736858.4818777073,544072.9085067391,807332.2737044742,556630.4220162814,170911.5900629912,736587.9599167119,1015290.5014234574,756953.1563825257,762517.5843146847,1090331.1452111606,652137.0514741654,156657.32200268653,837348.5827792725,1192848.4704121067,844387.6278752553,962480.4810779421,1037110.427557742,958925.2636346308,126402.61335122671,1119783.9747352914,1562675.744007683,1423718.011589893,3006235.7216710947,540532.1148318324,507129.74977811886,102039.11723228899,708844.084753558,1002979.4958081959,738996.8277370845,833465.0930489512,1050467.5382500682,1138929.3598054077,174743.97427932677,1497723.8125581285,1631148.6192803164,1161811.061674737,1222362.9462644483,1722372.047545477,802790.7850238086,361804.84724817943,1460884.9873608572,1446795.9058486144,1262658.2479830077,1267100.491239121,1275133.9550796323,1017271.4226006841,191604.08507464975,1377451.6096595805,1764487.8214592326,1677541.2710153812,1839427.2446492673,2828151.7309373566,5544547.135313673,379644.2666925739,592273.730879853,709274.9537787656,947462.326401311,1334599.618165557,916086.808985528,196245.9523181746,1772848.0149184333,1729401.7545939093,1242762.8360319897,1349101.3156949119,1604853.5083314802,1599217.3372328598,492980.9405478114,2045123.4095162575,1662040.4153672096,1434882.8490102605,1328466.3990806642,1254894.6801790001,1108484.4361343894,227426.2297359592,1591245.7075758327,1873128.85410139,1891106.1974679863,1979216.5118362776,1613459.850886491,1494716.7526018268,363540.250511507,2666043.157914639,6242138.832938937,627836.0755992316,917335.1259824416,937494.9811757157,1026118.440766412,346460.17124602146,1145192.6090925182,1871954.411613638,1470739.129918657,1324740.3018620894,1804221.2250478952,1446688.086947243,237297.11109963243,1878104.266986658,2044154.3292535972,2444980.0101068113,1143049.2850410396,1683169.2601977016,959624.9200072912,235453.88678859785,1669592.7699524332,1796310.7383021093,1598036.5823903212,1530243.2470730864,1524718.4100713632,1506243.506037491,224663.89191706444,652032.0703639435,2956139.2248998648,2235482.608719213,7913076.049812855,579529.0803150332,141037.1874374913,1001660.5948089408,1362629.1293376915,1219924.4214563866,847440.3158653142,1377210.7605307188,1444154.8017292067,271472.293824097,1494860.4447942623,1875861.8584899663,1291855.9354714667,1265527.015903036,1551138.4627305153,1831492.686467904,256231.01523641637,1640116.022786753,1642997.2390513893,1137406.8372671993,1515760.3563733767,1497148.9928200468,1290584.8429302634,382761.8631813817,1530818.3941735115,2284420.144973133,1529734.7572201067,1865548.327607065,2810754.130399858,4478912.402610191,1631204.3126634103],\"type\":\"scatter\"}],                        {\"template\":{\"data\":{\"barpolar\":[{\"marker\":{\"line\":{\"color\":\"white\",\"width\":0.5},\"pattern\":{\"fillmode\":\"overlay\",\"size\":10,\"solidity\":0.2}},\"type\":\"barpolar\"}],\"bar\":[{\"error_x\":{\"color\":\"rgb(36,36,36)\"},\"error_y\":{\"color\":\"rgb(36,36,36)\"},\"marker\":{\"line\":{\"color\":\"white\",\"width\":0.5},\"pattern\":{\"fillmode\":\"overlay\",\"size\":10,\"solidity\":0.2}},\"type\":\"bar\"}],\"carpet\":[{\"aaxis\":{\"endlinecolor\":\"rgb(36,36,36)\",\"gridcolor\":\"white\",\"linecolor\":\"white\",\"minorgridcolor\":\"white\",\"startlinecolor\":\"rgb(36,36,36)\"},\"baxis\":{\"endlinecolor\":\"rgb(36,36,36)\",\"gridcolor\":\"white\",\"linecolor\":\"white\",\"minorgridcolor\":\"white\",\"startlinecolor\":\"rgb(36,36,36)\"},\"type\":\"carpet\"}],\"choropleth\":[{\"colorbar\":{\"outlinewidth\":1,\"tickcolor\":\"rgb(36,36,36)\",\"ticks\":\"outside\"},\"type\":\"choropleth\"}],\"contourcarpet\":[{\"colorbar\":{\"outlinewidth\":1,\"tickcolor\":\"rgb(36,36,36)\",\"ticks\":\"outside\"},\"type\":\"contourcarpet\"}],\"contour\":[{\"colorbar\":{\"outlinewidth\":1,\"tickcolor\":\"rgb(36,36,36)\",\"ticks\":\"outside\"},\"colorscale\":[[0.0,\"#440154\"],[0.1111111111111111,\"#482878\"],[0.2222222222222222,\"#3e4989\"],[0.3333333333333333,\"#31688e\"],[0.4444444444444444,\"#26828e\"],[0.5555555555555556,\"#1f9e89\"],[0.6666666666666666,\"#35b779\"],[0.7777777777777778,\"#6ece58\"],[0.8888888888888888,\"#b5de2b\"],[1.0,\"#fde725\"]],\"type\":\"contour\"}],\"heatmapgl\":[{\"colorbar\":{\"outlinewidth\":1,\"tickcolor\":\"rgb(36,36,36)\",\"ticks\":\"outside\"},\"colorscale\":[[0.0,\"#440154\"],[0.1111111111111111,\"#482878\"],[0.2222222222222222,\"#3e4989\"],[0.3333333333333333,\"#31688e\"],[0.4444444444444444,\"#26828e\"],[0.5555555555555556,\"#1f9e89\"],[0.6666666666666666,\"#35b779\"],[0.7777777777777778,\"#6ece58\"],[0.8888888888888888,\"#b5de2b\"],[1.0,\"#fde725\"]],\"type\":\"heatmapgl\"}],\"heatmap\":[{\"colorbar\":{\"outlinewidth\":1,\"tickcolor\":\"rgb(36,36,36)\",\"ticks\":\"outside\"},\"colorscale\":[[0.0,\"#440154\"],[0.1111111111111111,\"#482878\"],[0.2222222222222222,\"#3e4989\"],[0.3333333333333333,\"#31688e\"],[0.4444444444444444,\"#26828e\"],[0.5555555555555556,\"#1f9e89\"],[0.6666666666666666,\"#35b779\"],[0.7777777777777778,\"#6ece58\"],[0.8888888888888888,\"#b5de2b\"],[1.0,\"#fde725\"]],\"type\":\"heatmap\"}],\"histogram2dcontour\":[{\"colorbar\":{\"outlinewidth\":1,\"tickcolor\":\"rgb(36,36,36)\",\"ticks\":\"outside\"},\"colorscale\":[[0.0,\"#440154\"],[0.1111111111111111,\"#482878\"],[0.2222222222222222,\"#3e4989\"],[0.3333333333333333,\"#31688e\"],[0.4444444444444444,\"#26828e\"],[0.5555555555555556,\"#1f9e89\"],[0.6666666666666666,\"#35b779\"],[0.7777777777777778,\"#6ece58\"],[0.8888888888888888,\"#b5de2b\"],[1.0,\"#fde725\"]],\"type\":\"histogram2dcontour\"}],\"histogram2d\":[{\"colorbar\":{\"outlinewidth\":1,\"tickcolor\":\"rgb(36,36,36)\",\"ticks\":\"outside\"},\"colorscale\":[[0.0,\"#440154\"],[0.1111111111111111,\"#482878\"],[0.2222222222222222,\"#3e4989\"],[0.3333333333333333,\"#31688e\"],[0.4444444444444444,\"#26828e\"],[0.5555555555555556,\"#1f9e89\"],[0.6666666666666666,\"#35b779\"],[0.7777777777777778,\"#6ece58\"],[0.8888888888888888,\"#b5de2b\"],[1.0,\"#fde725\"]],\"type\":\"histogram2d\"}],\"histogram\":[{\"marker\":{\"line\":{\"color\":\"white\",\"width\":0.6}},\"type\":\"histogram\"}],\"mesh3d\":[{\"colorbar\":{\"outlinewidth\":1,\"tickcolor\":\"rgb(36,36,36)\",\"ticks\":\"outside\"},\"type\":\"mesh3d\"}],\"parcoords\":[{\"line\":{\"colorbar\":{\"outlinewidth\":1,\"tickcolor\":\"rgb(36,36,36)\",\"ticks\":\"outside\"}},\"type\":\"parcoords\"}],\"pie\":[{\"automargin\":true,\"type\":\"pie\"}],\"scatter3d\":[{\"line\":{\"colorbar\":{\"outlinewidth\":1,\"tickcolor\":\"rgb(36,36,36)\",\"ticks\":\"outside\"}},\"marker\":{\"colorbar\":{\"outlinewidth\":1,\"tickcolor\":\"rgb(36,36,36)\",\"ticks\":\"outside\"}},\"type\":\"scatter3d\"}],\"scattercarpet\":[{\"marker\":{\"colorbar\":{\"outlinewidth\":1,\"tickcolor\":\"rgb(36,36,36)\",\"ticks\":\"outside\"}},\"type\":\"scattercarpet\"}],\"scattergeo\":[{\"marker\":{\"colorbar\":{\"outlinewidth\":1,\"tickcolor\":\"rgb(36,36,36)\",\"ticks\":\"outside\"}},\"type\":\"scattergeo\"}],\"scattergl\":[{\"marker\":{\"colorbar\":{\"outlinewidth\":1,\"tickcolor\":\"rgb(36,36,36)\",\"ticks\":\"outside\"}},\"type\":\"scattergl\"}],\"scattermapbox\":[{\"marker\":{\"colorbar\":{\"outlinewidth\":1,\"tickcolor\":\"rgb(36,36,36)\",\"ticks\":\"outside\"}},\"type\":\"scattermapbox\"}],\"scatterpolargl\":[{\"marker\":{\"colorbar\":{\"outlinewidth\":1,\"tickcolor\":\"rgb(36,36,36)\",\"ticks\":\"outside\"}},\"type\":\"scatterpolargl\"}],\"scatterpolar\":[{\"marker\":{\"colorbar\":{\"outlinewidth\":1,\"tickcolor\":\"rgb(36,36,36)\",\"ticks\":\"outside\"}},\"type\":\"scatterpolar\"}],\"scatter\":[{\"fillpattern\":{\"fillmode\":\"overlay\",\"size\":10,\"solidity\":0.2},\"type\":\"scatter\"}],\"scatterternary\":[{\"marker\":{\"colorbar\":{\"outlinewidth\":1,\"tickcolor\":\"rgb(36,36,36)\",\"ticks\":\"outside\"}},\"type\":\"scatterternary\"}],\"surface\":[{\"colorbar\":{\"outlinewidth\":1,\"tickcolor\":\"rgb(36,36,36)\",\"ticks\":\"outside\"},\"colorscale\":[[0.0,\"#440154\"],[0.1111111111111111,\"#482878\"],[0.2222222222222222,\"#3e4989\"],[0.3333333333333333,\"#31688e\"],[0.4444444444444444,\"#26828e\"],[0.5555555555555556,\"#1f9e89\"],[0.6666666666666666,\"#35b779\"],[0.7777777777777778,\"#6ece58\"],[0.8888888888888888,\"#b5de2b\"],[1.0,\"#fde725\"]],\"type\":\"surface\"}],\"table\":[{\"cells\":{\"fill\":{\"color\":\"rgb(237,237,237)\"},\"line\":{\"color\":\"white\"}},\"header\":{\"fill\":{\"color\":\"rgb(217,217,217)\"},\"line\":{\"color\":\"white\"}},\"type\":\"table\"}]},\"layout\":{\"annotationdefaults\":{\"arrowhead\":0,\"arrowwidth\":1},\"autotypenumbers\":\"strict\",\"coloraxis\":{\"colorbar\":{\"outlinewidth\":1,\"tickcolor\":\"rgb(36,36,36)\",\"ticks\":\"outside\"}},\"colorscale\":{\"diverging\":[[0.0,\"rgb(103,0,31)\"],[0.1,\"rgb(178,24,43)\"],[0.2,\"rgb(214,96,77)\"],[0.3,\"rgb(244,165,130)\"],[0.4,\"rgb(253,219,199)\"],[0.5,\"rgb(247,247,247)\"],[0.6,\"rgb(209,229,240)\"],[0.7,\"rgb(146,197,222)\"],[0.8,\"rgb(67,147,195)\"],[0.9,\"rgb(33,102,172)\"],[1.0,\"rgb(5,48,97)\"]],\"sequential\":[[0.0,\"#440154\"],[0.1111111111111111,\"#482878\"],[0.2222222222222222,\"#3e4989\"],[0.3333333333333333,\"#31688e\"],[0.4444444444444444,\"#26828e\"],[0.5555555555555556,\"#1f9e89\"],[0.6666666666666666,\"#35b779\"],[0.7777777777777778,\"#6ece58\"],[0.8888888888888888,\"#b5de2b\"],[1.0,\"#fde725\"]],\"sequentialminus\":[[0.0,\"#440154\"],[0.1111111111111111,\"#482878\"],[0.2222222222222222,\"#3e4989\"],[0.3333333333333333,\"#31688e\"],[0.4444444444444444,\"#26828e\"],[0.5555555555555556,\"#1f9e89\"],[0.6666666666666666,\"#35b779\"],[0.7777777777777778,\"#6ece58\"],[0.8888888888888888,\"#b5de2b\"],[1.0,\"#fde725\"]]},\"colorway\":[\"#1F77B4\",\"#FF7F0E\",\"#2CA02C\",\"#D62728\",\"#9467BD\",\"#8C564B\",\"#E377C2\",\"#7F7F7F\",\"#BCBD22\",\"#17BECF\"],\"font\":{\"color\":\"rgb(36,36,36)\"},\"geo\":{\"bgcolor\":\"white\",\"lakecolor\":\"white\",\"landcolor\":\"white\",\"showlakes\":true,\"showland\":true,\"subunitcolor\":\"white\"},\"hoverlabel\":{\"align\":\"left\"},\"hovermode\":\"closest\",\"mapbox\":{\"style\":\"light\"},\"paper_bgcolor\":\"white\",\"plot_bgcolor\":\"white\",\"polar\":{\"angularaxis\":{\"gridcolor\":\"rgb(232,232,232)\",\"linecolor\":\"rgb(36,36,36)\",\"showgrid\":false,\"showline\":true,\"ticks\":\"outside\"},\"bgcolor\":\"white\",\"radialaxis\":{\"gridcolor\":\"rgb(232,232,232)\",\"linecolor\":\"rgb(36,36,36)\",\"showgrid\":false,\"showline\":true,\"ticks\":\"outside\"}},\"scene\":{\"xaxis\":{\"backgroundcolor\":\"white\",\"gridcolor\":\"rgb(232,232,232)\",\"gridwidth\":2,\"linecolor\":\"rgb(36,36,36)\",\"showbackground\":true,\"showgrid\":false,\"showline\":true,\"ticks\":\"outside\",\"zeroline\":false,\"zerolinecolor\":\"rgb(36,36,36)\"},\"yaxis\":{\"backgroundcolor\":\"white\",\"gridcolor\":\"rgb(232,232,232)\",\"gridwidth\":2,\"linecolor\":\"rgb(36,36,36)\",\"showbackground\":true,\"showgrid\":false,\"showline\":true,\"ticks\":\"outside\",\"zeroline\":false,\"zerolinecolor\":\"rgb(36,36,36)\"},\"zaxis\":{\"backgroundcolor\":\"white\",\"gridcolor\":\"rgb(232,232,232)\",\"gridwidth\":2,\"linecolor\":\"rgb(36,36,36)\",\"showbackground\":true,\"showgrid\":false,\"showline\":true,\"ticks\":\"outside\",\"zeroline\":false,\"zerolinecolor\":\"rgb(36,36,36)\"}},\"shapedefaults\":{\"fillcolor\":\"black\",\"line\":{\"width\":0},\"opacity\":0.3},\"ternary\":{\"aaxis\":{\"gridcolor\":\"rgb(232,232,232)\",\"linecolor\":\"rgb(36,36,36)\",\"showgrid\":false,\"showline\":true,\"ticks\":\"outside\"},\"baxis\":{\"gridcolor\":\"rgb(232,232,232)\",\"linecolor\":\"rgb(36,36,36)\",\"showgrid\":false,\"showline\":true,\"ticks\":\"outside\"},\"bgcolor\":\"white\",\"caxis\":{\"gridcolor\":\"rgb(232,232,232)\",\"linecolor\":\"rgb(36,36,36)\",\"showgrid\":false,\"showline\":true,\"ticks\":\"outside\"}},\"title\":{\"x\":0.05},\"xaxis\":{\"automargin\":true,\"gridcolor\":\"rgb(232,232,232)\",\"linecolor\":\"rgb(36,36,36)\",\"showgrid\":false,\"showline\":true,\"ticks\":\"outside\",\"title\":{\"standoff\":15},\"zeroline\":false,\"zerolinecolor\":\"rgb(36,36,36)\"},\"yaxis\":{\"automargin\":true,\"gridcolor\":\"rgb(232,232,232)\",\"linecolor\":\"rgb(36,36,36)\",\"showgrid\":false,\"showline\":true,\"ticks\":\"outside\",\"title\":{\"standoff\":15},\"zeroline\":false,\"zerolinecolor\":\"rgb(36,36,36)\"}}},\"font\":{\"size\":18},\"title\":{\"text\":\"SARIMAX\",\"x\":0.5},\"width\":1200,\"height\":600,\"xaxis\":{\"title\":{\"text\":\"Date\"}},\"yaxis\":{\"title\":{\"text\":\"Revenue\"}}},                        {\"responsive\": true}                    ).then(function(){\n",
              "                            \n",
              "var gd = document.getElementById('4a07a092-cb2b-4a99-9cf3-42c3c5513d9e');\n",
              "var x = new MutationObserver(function (mutations, observer) {{\n",
              "        var display = window.getComputedStyle(gd).display;\n",
              "        if (!display || display === 'none') {{\n",
              "            console.log([gd, 'removed!']);\n",
              "            Plotly.purge(gd);\n",
              "            observer.disconnect();\n",
              "        }}\n",
              "}});\n",
              "\n",
              "// Listen for the removal of the full notebook cells\n",
              "var notebookContainer = gd.closest('#notebook-container');\n",
              "if (notebookContainer) {{\n",
              "    x.observe(notebookContainer, {childList: true});\n",
              "}}\n",
              "\n",
              "// Listen for the clearing of the current output cell\n",
              "var outputEl = gd.closest('.output');\n",
              "if (outputEl) {{\n",
              "    x.observe(outputEl, {childList: true});\n",
              "}}\n",
              "\n",
              "                        })                };                            </script>        </div>\n",
              "</body>\n",
              "</html>"
            ]
          },
          "metadata": {}
        }
      ],
      "source": [
        "forecast_steps = len(test)\n",
        "forecast = sarima_result.forecast(len(test), exog = merge[['Units', 'COGS']])\n",
        "forecast = forecast * (max(train['Revenue']) - min(train['Revenue'])) + min(train['Revenue']) # reverse scaling\n",
        "\n",
        "def plot_forecasts(forecasts: list[float], title: str) -> None:\n",
        "    \"\"\"Function to plot the forecasts.\"\"\"\n",
        "    fig = go.Figure()\n",
        "    fig.add_trace(go.Scatter(x=test['Date'], y=test['Revenue'], name='Test'))\n",
        "    fig.add_trace(go.Scatter(x=test['Date'], y = forecast, name= 'Forecast'))\n",
        "\n",
        "    fig.update_layout(template = \"simple_white\", font = dict(size=18), title_text=title,\n",
        "                      width=650, title_x=0.5, height=400, xaxis_title='Date',\n",
        "                      yaxis_title='Revenue')\n",
        "    fig.update_layout(\n",
        "        width=1200,   # Set the width in pixels\n",
        "        height=600   # Set the height in pixels\n",
        "    )\n",
        "    return fig.show()\n",
        "\n",
        "\n",
        "# Plot the forecasts\n",
        "plot_forecasts(forecast, 'SARIMAX')"
      ]
    },
    {
      "cell_type": "code",
      "execution_count": 75,
      "metadata": {
        "colab": {
          "base_uri": "https://localhost:8080/"
        },
        "id": "6e2XlWM3QYOp",
        "outputId": "e1bfb303-671b-4079-f84e-c2cd7dc8c0f3"
      },
      "outputs": [
        {
          "output_type": "stream",
          "name": "stdout",
          "text": [
            "535\n"
          ]
        }
      ],
      "source": [
        "print(len(forecast))\n",
        "def calculate_mape(actual, forecasted):\n",
        "    # Ensure both arrays have the same length\n",
        "    if len(actual) != len(forecasted):\n",
        "        raise ValueError(\"Actual and forecasted arrays must have the same length.\")\n",
        "\n",
        "    # Convert to pandas Series to handle NaN and filtering easily\n",
        "    actual_series = pd.Series(actual)\n",
        "    forecasted_series = pd.Series(forecasted)\n",
        "\n",
        "    # Avoid division by zero: filter out zero actual values\n",
        "    non_zero_mask = actual_series != 0\n",
        "\n",
        "    # Check if there are any non-zero actual values\n",
        "    if non_zero_mask.sum() == 0:\n",
        "        return np.nan  # Return nan if all actual values are zero\n",
        "\n",
        "    # Calculate MAPE\n",
        "    mape = np.mean(np.abs((actual_series[non_zero_mask] - forecasted_series[non_zero_mask]) / actual_series[non_zero_mask]))\n",
        "\n",
        "    return mape"
      ]
    },
    {
      "cell_type": "code",
      "execution_count": 76,
      "metadata": {
        "colab": {
          "base_uri": "https://localhost:8080/"
        },
        "id": "uzCgVZsjQYOq",
        "outputId": "3591be39-1236-4ab2-b0a3-0782b830007c"
      },
      "outputs": [
        {
          "output_type": "stream",
          "name": "stdout",
          "text": [
            "RMSE: 981791.3284103867\n",
            "R²: 0.04447204708947827\n",
            "MAPE: 0.5738760631236927\n"
          ]
        }
      ],
      "source": [
        "from sklearn.metrics import mean_absolute_error, mean_squared_error, r2_score\n",
        "\n",
        "actual_values = test['Revenue']\n",
        "forecast_mean = forecast\n",
        "\n",
        "mae = mean_absolute_error(actual_values, forecast_mean)\n",
        "rmse = np.sqrt(mean_squared_error(actual_values, forecast_mean))\n",
        "r2 = r2_score(actual_values, forecast_mean)\n",
        "\n",
        "# mape = np.mean(np.abs((actual_values - forecast_mean) / actual_values))\n",
        "mape = calculate_mape(list(actual_values), list(forecast_mean))\n",
        "\n",
        "# Print the performance metrics\n",
        "# print(f\"Mean Absolute Error (MAE): {mae}\")\n",
        "print(f\"RMSE: {rmse}\")\n",
        "print(f\"R²: {r2}\")\n",
        "print(f\"MAPE: {mape}\")"
      ]
    },
    {
      "cell_type": "code",
      "source": [],
      "metadata": {
        "id": "YIRTNcNJQD4v"
      },
      "execution_count": 71,
      "outputs": []
    }
  ],
  "metadata": {
    "colab": {
      "collapsed_sections": [
        "a1JJUumkEGLv"
      ],
      "provenance": []
    },
    "kaggle": {
      "accelerator": "none",
      "dataSources": [
        {
          "datasetId": 6681856,
          "sourceId": 10770843,
          "sourceType": "datasetVersion"
        },
        {
          "datasetId": 6690276,
          "sourceId": 10781829,
          "sourceType": "datasetVersion"
        }
      ],
      "dockerImageVersionId": 30886,
      "isGpuEnabled": false,
      "isInternetEnabled": true,
      "language": "python",
      "sourceType": "notebook"
    },
    "kernelspec": {
      "display_name": "Python 3",
      "language": "python",
      "name": "python3"
    },
    "language_info": {
      "codemirror_mode": {
        "name": "ipython",
        "version": 3
      },
      "file_extension": ".py",
      "mimetype": "text/x-python",
      "name": "python",
      "nbconvert_exporter": "python",
      "pygments_lexer": "ipython3",
      "version": "3.10.12"
    }
  },
  "nbformat": 4,
  "nbformat_minor": 0
}